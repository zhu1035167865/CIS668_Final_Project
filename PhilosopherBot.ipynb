{
  "cells": [
    {
      "cell_type": "code",
      "execution_count": 4,
      "metadata": {
        "id": "kTdSB_pK6Bsh",
        "scrolled": true,
        "colab": {
          "base_uri": "https://localhost:8080/"
        },
        "outputId": "79b145f7-b663-4789-cd0c-aa7526cabb34"
      },
      "outputs": [
        {
          "output_type": "stream",
          "name": "stdout",
          "text": [
            "Looking in indexes: https://pypi.org/simple, https://us-python.pkg.dev/colab-wheels/public/simple/\n",
            "Requirement already satisfied: spacy in /usr/local/lib/python3.7/dist-packages (3.4.2)\n",
            "Requirement already satisfied: srsly<3.0.0,>=2.4.3 in /usr/local/lib/python3.7/dist-packages (from spacy) (2.4.5)\n",
            "Requirement already satisfied: wasabi<1.1.0,>=0.9.1 in /usr/local/lib/python3.7/dist-packages (from spacy) (0.10.1)\n",
            "Requirement already satisfied: murmurhash<1.1.0,>=0.28.0 in /usr/local/lib/python3.7/dist-packages (from spacy) (1.0.9)\n",
            "Requirement already satisfied: packaging>=20.0 in /usr/local/lib/python3.7/dist-packages (from spacy) (21.3)\n",
            "Requirement already satisfied: pydantic!=1.8,!=1.8.1,<1.11.0,>=1.7.4 in /usr/local/lib/python3.7/dist-packages (from spacy) (1.10.2)\n",
            "Requirement already satisfied: requests<3.0.0,>=2.13.0 in /usr/local/lib/python3.7/dist-packages (from spacy) (2.23.0)\n",
            "Requirement already satisfied: preshed<3.1.0,>=3.0.2 in /usr/local/lib/python3.7/dist-packages (from spacy) (3.0.8)\n",
            "Requirement already satisfied: spacy-loggers<2.0.0,>=1.0.0 in /usr/local/lib/python3.7/dist-packages (from spacy) (1.0.3)\n",
            "Requirement already satisfied: spacy-legacy<3.1.0,>=3.0.10 in /usr/local/lib/python3.7/dist-packages (from spacy) (3.0.10)\n",
            "Requirement already satisfied: numpy>=1.15.0 in /usr/local/lib/python3.7/dist-packages (from spacy) (1.21.6)\n",
            "Requirement already satisfied: setuptools in /usr/local/lib/python3.7/dist-packages (from spacy) (57.4.0)\n",
            "Requirement already satisfied: catalogue<2.1.0,>=2.0.6 in /usr/local/lib/python3.7/dist-packages (from spacy) (2.0.8)\n",
            "Requirement already satisfied: jinja2 in /usr/local/lib/python3.7/dist-packages (from spacy) (2.11.3)\n",
            "Requirement already satisfied: thinc<8.2.0,>=8.1.0 in /usr/local/lib/python3.7/dist-packages (from spacy) (8.1.5)\n",
            "Requirement already satisfied: typer<0.5.0,>=0.3.0 in /usr/local/lib/python3.7/dist-packages (from spacy) (0.4.2)\n",
            "Requirement already satisfied: typing-extensions<4.2.0,>=3.7.4 in /usr/local/lib/python3.7/dist-packages (from spacy) (4.1.1)\n",
            "Requirement already satisfied: cymem<2.1.0,>=2.0.2 in /usr/local/lib/python3.7/dist-packages (from spacy) (2.0.7)\n",
            "Requirement already satisfied: pathy>=0.3.5 in /usr/local/lib/python3.7/dist-packages (from spacy) (0.6.2)\n",
            "Requirement already satisfied: tqdm<5.0.0,>=4.38.0 in /usr/local/lib/python3.7/dist-packages (from spacy) (4.64.1)\n",
            "Requirement already satisfied: langcodes<4.0.0,>=3.2.0 in /usr/local/lib/python3.7/dist-packages (from spacy) (3.3.0)\n",
            "Requirement already satisfied: zipp>=0.5 in /usr/local/lib/python3.7/dist-packages (from catalogue<2.1.0,>=2.0.6->spacy) (3.10.0)\n",
            "Requirement already satisfied: pyparsing!=3.0.5,>=2.0.2 in /usr/local/lib/python3.7/dist-packages (from packaging>=20.0->spacy) (3.0.9)\n",
            "Requirement already satisfied: smart-open<6.0.0,>=5.2.1 in /usr/local/lib/python3.7/dist-packages (from pathy>=0.3.5->spacy) (5.2.1)\n",
            "Requirement already satisfied: chardet<4,>=3.0.2 in /usr/local/lib/python3.7/dist-packages (from requests<3.0.0,>=2.13.0->spacy) (3.0.4)\n",
            "Requirement already satisfied: idna<3,>=2.5 in /usr/local/lib/python3.7/dist-packages (from requests<3.0.0,>=2.13.0->spacy) (2.10)\n",
            "Requirement already satisfied: certifi>=2017.4.17 in /usr/local/lib/python3.7/dist-packages (from requests<3.0.0,>=2.13.0->spacy) (2022.9.24)\n",
            "Requirement already satisfied: urllib3!=1.25.0,!=1.25.1,<1.26,>=1.21.1 in /usr/local/lib/python3.7/dist-packages (from requests<3.0.0,>=2.13.0->spacy) (1.25.11)\n",
            "Requirement already satisfied: confection<1.0.0,>=0.0.1 in /usr/local/lib/python3.7/dist-packages (from thinc<8.2.0,>=8.1.0->spacy) (0.0.3)\n",
            "Requirement already satisfied: blis<0.8.0,>=0.7.8 in /usr/local/lib/python3.7/dist-packages (from thinc<8.2.0,>=8.1.0->spacy) (0.7.9)\n",
            "Requirement already satisfied: click<9.0.0,>=7.1.1 in /usr/local/lib/python3.7/dist-packages (from typer<0.5.0,>=0.3.0->spacy) (7.1.2)\n",
            "Requirement already satisfied: MarkupSafe>=0.23 in /usr/local/lib/python3.7/dist-packages (from jinja2->spacy) (2.0.1)\n",
            "2022-11-02 06:38:33.558179: E tensorflow/stream_executor/cuda/cuda_driver.cc:271] failed call to cuInit: CUDA_ERROR_NO_DEVICE: no CUDA-capable device is detected\n",
            "Looking in indexes: https://pypi.org/simple, https://us-python.pkg.dev/colab-wheels/public/simple/\n",
            "Collecting en-core-web-lg==3.4.1\n",
            "  Downloading https://github.com/explosion/spacy-models/releases/download/en_core_web_lg-3.4.1/en_core_web_lg-3.4.1-py3-none-any.whl (587.7 MB)\n",
            "\u001b[K     |████████████████████████████████| 587.7 MB 16 kB/s \n",
            "\u001b[?25hRequirement already satisfied: spacy<3.5.0,>=3.4.0 in /usr/local/lib/python3.7/dist-packages (from en-core-web-lg==3.4.1) (3.4.2)\n",
            "Requirement already satisfied: thinc<8.2.0,>=8.1.0 in /usr/local/lib/python3.7/dist-packages (from spacy<3.5.0,>=3.4.0->en-core-web-lg==3.4.1) (8.1.5)\n",
            "Requirement already satisfied: pathy>=0.3.5 in /usr/local/lib/python3.7/dist-packages (from spacy<3.5.0,>=3.4.0->en-core-web-lg==3.4.1) (0.6.2)\n",
            "Requirement already satisfied: numpy>=1.15.0 in /usr/local/lib/python3.7/dist-packages (from spacy<3.5.0,>=3.4.0->en-core-web-lg==3.4.1) (1.21.6)\n",
            "Requirement already satisfied: packaging>=20.0 in /usr/local/lib/python3.7/dist-packages (from spacy<3.5.0,>=3.4.0->en-core-web-lg==3.4.1) (21.3)\n",
            "Requirement already satisfied: langcodes<4.0.0,>=3.2.0 in /usr/local/lib/python3.7/dist-packages (from spacy<3.5.0,>=3.4.0->en-core-web-lg==3.4.1) (3.3.0)\n",
            "Requirement already satisfied: cymem<2.1.0,>=2.0.2 in /usr/local/lib/python3.7/dist-packages (from spacy<3.5.0,>=3.4.0->en-core-web-lg==3.4.1) (2.0.7)\n",
            "Requirement already satisfied: murmurhash<1.1.0,>=0.28.0 in /usr/local/lib/python3.7/dist-packages (from spacy<3.5.0,>=3.4.0->en-core-web-lg==3.4.1) (1.0.9)\n",
            "Requirement already satisfied: preshed<3.1.0,>=3.0.2 in /usr/local/lib/python3.7/dist-packages (from spacy<3.5.0,>=3.4.0->en-core-web-lg==3.4.1) (3.0.8)\n",
            "Requirement already satisfied: typing-extensions<4.2.0,>=3.7.4 in /usr/local/lib/python3.7/dist-packages (from spacy<3.5.0,>=3.4.0->en-core-web-lg==3.4.1) (4.1.1)\n",
            "Requirement already satisfied: jinja2 in /usr/local/lib/python3.7/dist-packages (from spacy<3.5.0,>=3.4.0->en-core-web-lg==3.4.1) (2.11.3)\n",
            "Requirement already satisfied: setuptools in /usr/local/lib/python3.7/dist-packages (from spacy<3.5.0,>=3.4.0->en-core-web-lg==3.4.1) (57.4.0)\n",
            "Requirement already satisfied: pydantic!=1.8,!=1.8.1,<1.11.0,>=1.7.4 in /usr/local/lib/python3.7/dist-packages (from spacy<3.5.0,>=3.4.0->en-core-web-lg==3.4.1) (1.10.2)\n",
            "Requirement already satisfied: tqdm<5.0.0,>=4.38.0 in /usr/local/lib/python3.7/dist-packages (from spacy<3.5.0,>=3.4.0->en-core-web-lg==3.4.1) (4.64.1)\n",
            "Requirement already satisfied: requests<3.0.0,>=2.13.0 in /usr/local/lib/python3.7/dist-packages (from spacy<3.5.0,>=3.4.0->en-core-web-lg==3.4.1) (2.23.0)\n",
            "Requirement already satisfied: spacy-loggers<2.0.0,>=1.0.0 in /usr/local/lib/python3.7/dist-packages (from spacy<3.5.0,>=3.4.0->en-core-web-lg==3.4.1) (1.0.3)\n",
            "Requirement already satisfied: spacy-legacy<3.1.0,>=3.0.10 in /usr/local/lib/python3.7/dist-packages (from spacy<3.5.0,>=3.4.0->en-core-web-lg==3.4.1) (3.0.10)\n",
            "Requirement already satisfied: wasabi<1.1.0,>=0.9.1 in /usr/local/lib/python3.7/dist-packages (from spacy<3.5.0,>=3.4.0->en-core-web-lg==3.4.1) (0.10.1)\n",
            "Requirement already satisfied: catalogue<2.1.0,>=2.0.6 in /usr/local/lib/python3.7/dist-packages (from spacy<3.5.0,>=3.4.0->en-core-web-lg==3.4.1) (2.0.8)\n",
            "Requirement already satisfied: srsly<3.0.0,>=2.4.3 in /usr/local/lib/python3.7/dist-packages (from spacy<3.5.0,>=3.4.0->en-core-web-lg==3.4.1) (2.4.5)\n",
            "Requirement already satisfied: typer<0.5.0,>=0.3.0 in /usr/local/lib/python3.7/dist-packages (from spacy<3.5.0,>=3.4.0->en-core-web-lg==3.4.1) (0.4.2)\n",
            "Requirement already satisfied: zipp>=0.5 in /usr/local/lib/python3.7/dist-packages (from catalogue<2.1.0,>=2.0.6->spacy<3.5.0,>=3.4.0->en-core-web-lg==3.4.1) (3.10.0)\n",
            "Requirement already satisfied: pyparsing!=3.0.5,>=2.0.2 in /usr/local/lib/python3.7/dist-packages (from packaging>=20.0->spacy<3.5.0,>=3.4.0->en-core-web-lg==3.4.1) (3.0.9)\n",
            "Requirement already satisfied: smart-open<6.0.0,>=5.2.1 in /usr/local/lib/python3.7/dist-packages (from pathy>=0.3.5->spacy<3.5.0,>=3.4.0->en-core-web-lg==3.4.1) (5.2.1)\n",
            "Requirement already satisfied: urllib3!=1.25.0,!=1.25.1,<1.26,>=1.21.1 in /usr/local/lib/python3.7/dist-packages (from requests<3.0.0,>=2.13.0->spacy<3.5.0,>=3.4.0->en-core-web-lg==3.4.1) (1.25.11)\n",
            "Requirement already satisfied: certifi>=2017.4.17 in /usr/local/lib/python3.7/dist-packages (from requests<3.0.0,>=2.13.0->spacy<3.5.0,>=3.4.0->en-core-web-lg==3.4.1) (2022.9.24)\n",
            "Requirement already satisfied: chardet<4,>=3.0.2 in /usr/local/lib/python3.7/dist-packages (from requests<3.0.0,>=2.13.0->spacy<3.5.0,>=3.4.0->en-core-web-lg==3.4.1) (3.0.4)\n",
            "Requirement already satisfied: idna<3,>=2.5 in /usr/local/lib/python3.7/dist-packages (from requests<3.0.0,>=2.13.0->spacy<3.5.0,>=3.4.0->en-core-web-lg==3.4.1) (2.10)\n",
            "Requirement already satisfied: confection<1.0.0,>=0.0.1 in /usr/local/lib/python3.7/dist-packages (from thinc<8.2.0,>=8.1.0->spacy<3.5.0,>=3.4.0->en-core-web-lg==3.4.1) (0.0.3)\n",
            "Requirement already satisfied: blis<0.8.0,>=0.7.8 in /usr/local/lib/python3.7/dist-packages (from thinc<8.2.0,>=8.1.0->spacy<3.5.0,>=3.4.0->en-core-web-lg==3.4.1) (0.7.9)\n",
            "Requirement already satisfied: click<9.0.0,>=7.1.1 in /usr/local/lib/python3.7/dist-packages (from typer<0.5.0,>=0.3.0->spacy<3.5.0,>=3.4.0->en-core-web-lg==3.4.1) (7.1.2)\n",
            "Requirement already satisfied: MarkupSafe>=0.23 in /usr/local/lib/python3.7/dist-packages (from jinja2->spacy<3.5.0,>=3.4.0->en-core-web-lg==3.4.1) (2.0.1)\n",
            "\u001b[38;5;2m✔ Download and installation successful\u001b[0m\n",
            "You can now load the package via spacy.load('en_core_web_lg')\n",
            "Looking in indexes: https://pypi.org/simple, https://us-python.pkg.dev/colab-wheels/public/simple/\n",
            "Requirement already satisfied: transformers in /usr/local/lib/python3.7/dist-packages (4.24.0)\n",
            "Requirement already satisfied: datasets in /usr/local/lib/python3.7/dist-packages (2.6.1)\n",
            "Requirement already satisfied: sentencepiece in /usr/local/lib/python3.7/dist-packages (0.1.97)\n",
            "Requirement already satisfied: filelock in /usr/local/lib/python3.7/dist-packages (from transformers) (3.8.0)\n",
            "Requirement already satisfied: regex!=2019.12.17 in /usr/local/lib/python3.7/dist-packages (from transformers) (2022.6.2)\n",
            "Requirement already satisfied: tqdm>=4.27 in /usr/local/lib/python3.7/dist-packages (from transformers) (4.64.1)\n",
            "Requirement already satisfied: pyyaml>=5.1 in /usr/local/lib/python3.7/dist-packages (from transformers) (6.0)\n",
            "Requirement already satisfied: importlib-metadata in /usr/local/lib/python3.7/dist-packages (from transformers) (4.13.0)\n",
            "Requirement already satisfied: requests in /usr/local/lib/python3.7/dist-packages (from transformers) (2.23.0)\n",
            "Requirement already satisfied: numpy>=1.17 in /usr/local/lib/python3.7/dist-packages (from transformers) (1.21.6)\n",
            "Requirement already satisfied: tokenizers!=0.11.3,<0.14,>=0.11.1 in /usr/local/lib/python3.7/dist-packages (from transformers) (0.13.1)\n",
            "Requirement already satisfied: packaging>=20.0 in /usr/local/lib/python3.7/dist-packages (from transformers) (21.3)\n",
            "Requirement already satisfied: huggingface-hub<1.0,>=0.10.0 in /usr/local/lib/python3.7/dist-packages (from transformers) (0.10.1)\n",
            "Requirement already satisfied: typing-extensions>=3.7.4.3 in /usr/local/lib/python3.7/dist-packages (from huggingface-hub<1.0,>=0.10.0->transformers) (4.1.1)\n",
            "Requirement already satisfied: pyparsing!=3.0.5,>=2.0.2 in /usr/local/lib/python3.7/dist-packages (from packaging>=20.0->transformers) (3.0.9)\n",
            "Requirement already satisfied: pyarrow>=6.0.0 in /usr/local/lib/python3.7/dist-packages (from datasets) (6.0.1)\n",
            "Requirement already satisfied: aiohttp in /usr/local/lib/python3.7/dist-packages (from datasets) (3.8.3)\n",
            "Requirement already satisfied: fsspec[http]>=2021.11.1 in /usr/local/lib/python3.7/dist-packages (from datasets) (2022.10.0)\n",
            "Requirement already satisfied: multiprocess in /usr/local/lib/python3.7/dist-packages (from datasets) (0.70.13)\n",
            "Requirement already satisfied: dill<0.3.6 in /usr/local/lib/python3.7/dist-packages (from datasets) (0.3.5.1)\n",
            "Requirement already satisfied: responses<0.19 in /usr/local/lib/python3.7/dist-packages (from datasets) (0.18.0)\n",
            "Requirement already satisfied: xxhash in /usr/local/lib/python3.7/dist-packages (from datasets) (3.1.0)\n",
            "Requirement already satisfied: pandas in /usr/local/lib/python3.7/dist-packages (from datasets) (1.3.5)\n",
            "Requirement already satisfied: multidict<7.0,>=4.5 in /usr/local/lib/python3.7/dist-packages (from aiohttp->datasets) (6.0.2)\n",
            "Requirement already satisfied: attrs>=17.3.0 in /usr/local/lib/python3.7/dist-packages (from aiohttp->datasets) (22.1.0)\n",
            "Requirement already satisfied: charset-normalizer<3.0,>=2.0 in /usr/local/lib/python3.7/dist-packages (from aiohttp->datasets) (2.1.1)\n",
            "Requirement already satisfied: aiosignal>=1.1.2 in /usr/local/lib/python3.7/dist-packages (from aiohttp->datasets) (1.2.0)\n",
            "Requirement already satisfied: frozenlist>=1.1.1 in /usr/local/lib/python3.7/dist-packages (from aiohttp->datasets) (1.3.1)\n",
            "Requirement already satisfied: asynctest==0.13.0 in /usr/local/lib/python3.7/dist-packages (from aiohttp->datasets) (0.13.0)\n",
            "Requirement already satisfied: async-timeout<5.0,>=4.0.0a3 in /usr/local/lib/python3.7/dist-packages (from aiohttp->datasets) (4.0.2)\n",
            "Requirement already satisfied: yarl<2.0,>=1.0 in /usr/local/lib/python3.7/dist-packages (from aiohttp->datasets) (1.8.1)\n",
            "Requirement already satisfied: idna<3,>=2.5 in /usr/local/lib/python3.7/dist-packages (from requests->transformers) (2.10)\n",
            "Requirement already satisfied: chardet<4,>=3.0.2 in /usr/local/lib/python3.7/dist-packages (from requests->transformers) (3.0.4)\n",
            "Requirement already satisfied: urllib3!=1.25.0,!=1.25.1,<1.26,>=1.21.1 in /usr/local/lib/python3.7/dist-packages (from requests->transformers) (1.25.11)\n",
            "Requirement already satisfied: certifi>=2017.4.17 in /usr/local/lib/python3.7/dist-packages (from requests->transformers) (2022.9.24)\n",
            "Requirement already satisfied: zipp>=0.5 in /usr/local/lib/python3.7/dist-packages (from importlib-metadata->transformers) (3.10.0)\n",
            "Requirement already satisfied: python-dateutil>=2.7.3 in /usr/local/lib/python3.7/dist-packages (from pandas->datasets) (2.8.2)\n",
            "Requirement already satisfied: pytz>=2017.3 in /usr/local/lib/python3.7/dist-packages (from pandas->datasets) (2022.5)\n",
            "Requirement already satisfied: six>=1.5 in /usr/local/lib/python3.7/dist-packages (from python-dateutil>=2.7.3->pandas->datasets) (1.15.0)\n"
          ]
        }
      ],
      "source": [
        "# ALL IMPORTS\n",
        "\n",
        "# -----------------------------------\n",
        "# SpaCy IMPORTS\n",
        "!pip install -U spacy\n",
        "\n",
        "import spacy\n",
        "from spacy.lang.en.stop_words import STOP_WORDS\n",
        "from spacy.lang.en import English\n",
        "!python -m spacy download en_core_web_lg\n",
        "\n",
        "# Check how many stopwords\n",
        "#len(STOP_WORDS)\n",
        "\n",
        "# Create a spaCy nlp object\n",
        "nlp = spacy.load('en_core_web_lg')\n",
        "\n",
        "# Check if a word is a stopword:\n",
        "#nlp.vocab['thy'].is_stop\n",
        "\n",
        "# Add custom stopwords\n",
        "new_stop_words = ['thy', 'ye', 'thee', 'thou', 'll', 've']\n",
        "for w in new_stop_words :\n",
        "  STOP_WORDS.add(w)\n",
        "\n",
        "# -----------------------------------\n",
        "# TRANSFORMERS IMPORTS\n",
        "#!pip install transformers datasets\n",
        "!pip install --no-cache-dir transformers datasets sentencepiece\n",
        "\n",
        "from transformers import (pipeline, \n",
        "                          AutoModel, \n",
        "                          AutoTokenizer, \n",
        "                          AutoModelForSeq2SeqLM, \n",
        "                          AutoModelForCausalLM, \n",
        "                          DataCollatorForLanguageModeling, \n",
        "                          TrainingArguments, \n",
        "                          Trainer,\n",
        ")\n",
        "\n",
        "from datasets import load_dataset"
      ]
    },
    {
      "cell_type": "code",
      "source": [
        "import os\n",
        "!ls"
      ],
      "metadata": {
        "id": "zJnGcYMgAvno",
        "colab": {
          "base_uri": "https://localhost:8080/"
        },
        "outputId": "d2304ba4-3f70-47d6-b916-6e24d6253dbd"
      },
      "execution_count": 5,
      "outputs": [
        {
          "output_type": "stream",
          "name": "stdout",
          "text": [
            "nietzsche.txt  sample_data\n"
          ]
        }
      ]
    },
    {
      "cell_type": "markdown",
      "metadata": {
        "id": "1yAZcS0hTBDQ"
      },
      "source": [
        "# Topic Extractor + Summarization"
      ]
    },
    {
      "cell_type": "markdown",
      "metadata": {
        "id": "BT3wxtrZOsBj"
      },
      "source": [
        "## Load data / text preprocessing"
      ]
    },
    {
      "cell_type": "code",
      "execution_count": 6,
      "metadata": {
        "id": "TTQzQP88TF3F"
      },
      "outputs": [],
      "source": [
        "# Load list of paragraphs\n",
        "import os\n",
        "\n",
        "def txt2paragraph(filepath):\n",
        "    with open(filepath) as f:\n",
        "        lines = f.readlines()\n",
        "\n",
        "    paragraph = ''\n",
        "    for line in lines:\n",
        "        if line.isspace():  # is it an empty line?\n",
        "            if paragraph:\n",
        "                yield paragraph\n",
        "                paragraph = ''\n",
        "            else:\n",
        "                continue\n",
        "        else:\n",
        "            paragraph += ' ' + line.strip()\n",
        "    yield paragraph\n",
        "\n",
        "# Build the list of raw paragraphs\n",
        "raw_paragraphs = []\n",
        "for par in txt2paragraph('nietzsche.txt'):\n",
        "  par = par.strip()\n",
        "  raw_paragraphs.append(par)\n",
        "\n",
        "# Basic preprocessing\n",
        "import re\n",
        "def paragraphPreprocess(raw_paragraphs: list):\n",
        "  paragraphs = []\n",
        "  prev = ''\n",
        "  for par in raw_paragraphs:\n",
        "    # First we exclude short paragraphs and Footnotes\n",
        "    if (len(par) < 200 and not prev) or \"Footnote\" in par or 'NOTE' in par or 'Nietzsche' in par: \n",
        "      continue \n",
        "    # Next remove non-alpha characters at the beginning of each paragraph\n",
        "    else:\n",
        "      for c in par:\n",
        "        if c.isalpha():\n",
        "          i = par.find(c)\n",
        "          par = par[i:]\n",
        "          break\n",
        "      par = re.sub('[—]', ' ', par)\n",
        "      par = par.replace('-', ' ')\n",
        "      par = par.replace('”', '')\n",
        "      par = par.replace(\"’\", '')\n",
        "      # Remove text between square brackets: \n",
        "      # \"[\\(\\[].*?[\\)\\]]\"  is a REGEX for finding\n",
        "      # the pattern for brackets containing some content\n",
        "      par = re.sub(\"[\\(\\[].*?[\\)\\]]\",\"\", par)\n",
        "      par = re.sub('[_\\'{}()…=\"]', '', par)\n",
        "      par = prev + ' ' + par\n",
        "      par = par.strip()\n",
        "      if par[-1] in [':', ';', ','] or par[-1].isalpha():\n",
        "        prev = par\n",
        "        continue\n",
        "      else:\n",
        "        paragraphs.append(par)\n",
        "        prev = ''\n",
        "  return paragraphs\n",
        "\n",
        "paragraphs = paragraphPreprocess(raw_paragraphs)\n",
        "\n",
        "# Create a Pandas DataFrame out of our list of paragraphs\n",
        "import pandas as pd\n",
        "df = pd.DataFrame(paragraphs, columns =['paragraph'])\n",
        "\n",
        "\n",
        "# ----------------------------------------------------\n",
        "### Tokenization and further preprocessing with SpaCy\n",
        "\n",
        "# Split text into a list of SENTENCES with SpaCy\n",
        "def split_in_sentences(text):\n",
        "    doc = nlp(text)\n",
        "    return [str(sent).strip() for sent in doc.sents]\n",
        "\n",
        "# Further preprocessing with SpaCy\n",
        "import string\n",
        "def clean_text(text):\n",
        "    '''\n",
        "    Make text lowercase, remove text in square brackets, \n",
        "    remove punctuation and remove words containing numbers.\n",
        "    '''\n",
        "    text = text.lower()\n",
        "    text = re.sub(r'\\[.*?\\]', '', text)\n",
        "    text = re.sub(r'[%s]' % re.escape(string.punctuation), '', text)\n",
        "    text = re.sub(r'\\w*\\d\\w*', '', text)\n",
        "    return text\n",
        "\n",
        "df_clean = pd.DataFrame(df.paragraph.apply(lambda x: clean_text(x)))\n",
        "\n",
        "def lemmatizer(text):        \n",
        "    sent = []\n",
        "    doc = nlp(text)\n",
        "    for word in doc:\n",
        "        sent.append(word.lemma_)\n",
        "    return \" \".join(sent)\n",
        "    \n",
        "df[\"paragraph_lemmatize\"] =  df_clean.apply(lambda x: lemmatizer(x['paragraph']), axis=1)\n",
        "#df.head()"
      ]
    },
    {
      "cell_type": "markdown",
      "metadata": {
        "id": "dTVtWu1VPKIu"
      },
      "source": [
        "## Topic extraction: Non-negative Matrix Factorization"
      ]
    },
    {
      "cell_type": "code",
      "execution_count": 7,
      "metadata": {
        "id": "flYmgQjtQK-6",
        "colab": {
          "base_uri": "https://localhost:8080/"
        },
        "outputId": "2959f404-a3e4-4bdf-9046-7fbb484a25d3"
      },
      "outputs": [
        {
          "output_type": "stream",
          "name": "stderr",
          "text": [
            "/usr/local/lib/python3.7/dist-packages/sklearn/decomposition/_nmf.py:294: FutureWarning: The 'init' value, when 'init=None' and n_components is less than n_samples and n_features, will be changed from 'nndsvd' to 'nndsvda' in 1.1 (renaming of 0.26).\n",
            "  FutureWarning,\n"
          ]
        },
        {
          "output_type": "stream",
          "name": "stdout",
          "text": [
            "THE TOP WORDS FOR TOPIC #0\n",
            "['general', 'state', 'stand', 'essential', 'divine', 'order', 'come', 'class', 'thing', 'second', 'way', 'etc', 'worth', 'specie', 'belief', 'high', 'morality', 'life', 'man', 'power']\n",
            "\n",
            "\n",
            "THE TOP WORDS FOR TOPIC #1\n",
            "['religion', 'grow', 'find', 'turn', 'high', 'increase', 'new', 'lose', 'live', 'vain', 'thing', 'morality', 'lead', 'hitherto', 'goal', 'valuation', 'moral', 'long', 'nihilism', 'value']\n",
            "\n",
            "\n",
            "THE TOP WORDS FOR TOPIC #2\n",
            "['freedom', 'ideal', 'appearance', 'belief', 'reality', 'god', 'understand', 'remain', 'false', 'truth', 'existence', 'corruption', 'reason', 'serve', 'mean', 'real', 'true', 'evil', 'purpose', 'world']\n",
            "\n",
            "\n",
            "THE TOP WORDS FOR TOPIC #3\n",
            "['create', 'culture', 'decadence', 'gloominess', 'weakness', 'theory', 'main', 'sign', 'attain', 'way', 'vice', 'ought', 'problem', 'right', 'speak', 'symptom', 'illness', 'people', 'question', 'pessimism']\n",
            "\n",
            "\n",
            "THE TOP WORDS FOR TOPIC #4\n",
            "['eye', 'spirit', 'war', 'progress', 'rich', 'thing', 'fact', 'time', 'vice', 'decline', 'necessary', 'ideal', 'mean', 'people', 'society', 'instinct', 'advance', 'decadence', 'decay', 'age']\n",
            "\n",
            "\n",
            "THE TOP WORDS FOR TOPIC #5\n",
            "['condition', 'individual', 'concern', 'result', 'nature', 'action', 'want', 'lack', 'weakness', 'order', 'strength', 'self', 'certain', 'kind', 'fact', 'regard', 'instinct', 'strong', 'weak', 'man']\n",
            "\n",
            "\n",
            "THE TOP WORDS FOR TOPIC #6\n",
            "['reality', 'good', 'pascal', 'kant', 'pleasure', 'heart', 'history', 'intellectual', 'sort', 'reason', 'art', 'un', 'romanticism', 'schopenhauer', 'desire', 'spiritual', 'style', 'old', 'eighteenth', 'century']\n",
            "\n",
            "\n",
            "THE TOP WORDS FOR TOPIC #7\n",
            "['noble', 'belief', 'pride', 'pleasure', 'exhaustion', 'like', 'historian', 'duty', 'oneself', 'art', 'property', 'hitherto', 'contradiction', 'life', 'suppress', 'priest', 'afflict', 'look', 'soul', 'form']\n",
            "\n",
            "\n"
          ]
        },
        {
          "output_type": "stream",
          "name": "stderr",
          "text": [
            "/usr/local/lib/python3.7/dist-packages/sklearn/decomposition/_nmf.py:1641: ConvergenceWarning: Maximum number of iterations 200 reached. Increase it to improve convergence.\n",
            "  ConvergenceWarning,\n"
          ]
        },
        {
          "output_type": "execute_result",
          "data": {
            "text/plain": [
              "topic\n",
              "0    21\n",
              "1    29\n",
              "2    14\n",
              "3    10\n",
              "4    25\n",
              "5    45\n",
              "6    21\n",
              "7    15\n",
              "dtype: int64"
            ]
          },
          "metadata": {},
          "execution_count": 7
        }
      ],
      "source": [
        "# Create a DOCUMENT TERM MATRIX\n",
        "from sklearn.feature_extraction.text import TfidfVectorizer\n",
        "tfidf = TfidfVectorizer(max_df=0.95, min_df=3, stop_words=STOP_WORDS)\n",
        "\n",
        "dtm = tfidf.fit_transform(df['paragraph_lemmatize'])\n",
        "\n",
        "# Create an instance of NMF with n_comp components\n",
        "from sklearn.decomposition import NMF\n",
        "n_comp = 8\n",
        "nmf_model = NMF(n_components=n_comp,random_state=42)\n",
        "nmf_model.fit(dtm)\n",
        "\n",
        "# Print the most common words for each topic\n",
        "for index,topic in enumerate(nmf_model.components_):\n",
        "    print(f'THE TOP WORDS FOR TOPIC #{index}')\n",
        "    print([tfidf.get_feature_names_out()[i] for i in topic.argsort()[-20:]])\n",
        "    print('\\n')\n",
        "   \n",
        "# ASSIGN Topic to paragraphs and COUNT paragraphs/topic\n",
        "\n",
        "topic_results = nmf_model.transform(dtm)\n",
        "df['topic'] = topic_results.argmax(axis=1)\n",
        "\n",
        "df.groupby(['topic']).size()\n",
        "\n",
        "#df.head(10)\n",
        "#df[df['topic'] == topic].head() # Filter df by topic"
      ]
    },
    {
      "cell_type": "markdown",
      "metadata": {
        "id": "tgb1ppKwtaFH"
      },
      "source": [
        "## Text to Paragraph"
      ]
    },
    {
      "cell_type": "code",
      "execution_count": 8,
      "metadata": {
        "id": "vs3VnMaVgB1Q"
      },
      "outputs": [],
      "source": [
        "def textToParagraph(text):\n",
        "  \"\"\"\n",
        "  Input: text - a string of text\n",
        "  Output: Full Paragraph from the DataFrame that best matches with input text\n",
        "\n",
        "  Description: \n",
        "  text -> predict Topic -> compute similarity ONLY with paragraphs in this Topic\n",
        "       -> return paragraph with highest similarity score\n",
        "  \"\"\"\n",
        "\n",
        "  # PREDICT Topic\n",
        "  text = lemmatizer(clean_text(text))\n",
        "  X = tfidf.transform([text]) # transform the TF-IDF\n",
        "  nmf_features = nmf_model.transform(X) # get the nmf_features (score) vector\n",
        "  topic = nmf_features.argmax()\n",
        "\n",
        "  # Compute SIMILARITY with paragraphs in this Topic\n",
        "\n",
        "  # Similarity function: (text, paragraph)\n",
        "  def sim(text, par):\n",
        "    # Clean text, remove stopwords and tokenize\n",
        "    doc = nlp(lemmatizer(clean_text(par)))\n",
        "    return nlp(text).similarity(doc)\n",
        "\n",
        "  # Get series of similarity scores on the DataFrame sliced by topic\n",
        "  scores = df[df['topic'] == topic].apply(lambda x: sim(text, x['paragraph']), axis=1)\n",
        "\n",
        "  # Return most similar paragraph\n",
        "  id = scores.idxmax() # Get id of the max score\n",
        "  return df['paragraph'][id]"
      ]
    },
    {
      "cell_type": "markdown",
      "metadata": {
        "id": "n5zw2m8NuzFg"
      },
      "source": [
        "# Summarization"
      ]
    },
    {
      "cell_type": "code",
      "execution_count": 9,
      "metadata": {
        "id": "AyJu6RtsCDbZ",
        "colab": {
          "base_uri": "https://localhost:8080/",
          "height": 177,
          "referenced_widgets": [
            "3673d7f7447143f1beae1b8d593c42ff",
            "045f40396e5749e8a0ed2acdd0669c2e",
            "8e90109592e94bf780bdf873d652f13d",
            "e25f9106f80444e1ac05f165af31478a",
            "02ee4de9196e4d66a6c161753138be13",
            "833da9e4928e47c29835484ba1aa4c48",
            "d797daea518e40cdaa3f66baacf1ab81",
            "7e8cf65d017a4aa997e37f4714db33e1",
            "78ad808ea7e1412682c6ff17226b42c0",
            "ca600012788440888cbea5dd9e72fef7",
            "9f0a4f39b51a40bebea0074e2430cb66",
            "3f70ae789b964820bc1d7aa8b38472fc",
            "714913e401cc4dd7bef14c697e43efb5",
            "a48924b8f3ab435f9fc729a7aa535b06",
            "d9b97bc2bb0a40f38b397a89f65eb537",
            "c2cc454215e24c70a9130c10f16629b1",
            "9e332b82de0d4bfca4fd2fd4951eb1c4",
            "c836fc2187724fb79754eeaf4c0b2e4c",
            "2a527f25cb664782ad4b5cdcf5912bea",
            "6b22c4f1040d4db2a38a03a2da5d53ff",
            "da9d2ab9decd4d62aa85be603efdf27d",
            "3e48531504e2481d92de6c30b8ece7fb",
            "6c30d5a5832f4c40834e1bc580158804",
            "b61823e0c31643749bd3213c791e6d66",
            "8fd777b6da684a48b222c63d0108b9d1",
            "7740673bba5848658d901632adce933a",
            "12f1b4f12d0b4816a4308d69a34a85be",
            "ae97b95bddc84e25bb758139421494ca",
            "e2ca4d0488b546c5841fd5e40278e956",
            "a913d2bde5be4617ac9b7253964eb745",
            "04c0c3acdabf456181c9be9fbdea8af0",
            "56180a5b9cba42149bfff0b2963ed832",
            "4889cbcee7b74766b48fea7bcd9230ec",
            "c5d1732e7f5646c3aa76ef95c4dc7b87",
            "8b97ef58a1cb405581003fd55b529d3d",
            "c8d56e214bb846178e186d0510f770d6",
            "05047926f76042d9af43150f3b11aef6",
            "66eea20e641c42a891e9f299217c2117",
            "7007dce658b84113880c352a83b3c1a4",
            "a90ca347a9c8476e94b0675ec64fbd6c",
            "da68695b74d14a9c846faa4c23c0a328",
            "40511653312544c6a36c9b25135749b1",
            "6770f994c3d54fe5a3dea1857bb2c610",
            "da6621b201d7434e9021565f097d070b",
            "b5df11378b554d749f2d7e204279175a",
            "457dc7ed852040bb9283ffadff324845",
            "81e70629230549ebaff0de7d4e7c5bcf",
            "f34e1f6e1e644f1d88ac2577ffa2c98f",
            "6675c6c7354747dc94bdf69cb4abed88",
            "7dba79722f70474c970038ef2f7fafe4",
            "4afc0ab54e10455b81b3312d53f74cd4",
            "b9da7caa2792458198bb08ac1e1bd419",
            "722a6dd578b54ba59fd594b1701b8cb7",
            "818b99214c8c4b33ad2a6129352fb662",
            "b9f34f29273f438d8f17cc0202bab5bf"
          ]
        },
        "outputId": "92520ead-baa8-49a1-df8b-cd64a3ba0124"
      },
      "outputs": [
        {
          "output_type": "display_data",
          "data": {
            "text/plain": [
              "Downloading:   0%|          | 0.00/1.58k [00:00<?, ?B/s]"
            ],
            "application/vnd.jupyter.widget-view+json": {
              "version_major": 2,
              "version_minor": 0,
              "model_id": "3673d7f7447143f1beae1b8d593c42ff"
            }
          },
          "metadata": {}
        },
        {
          "output_type": "display_data",
          "data": {
            "text/plain": [
              "Downloading:   0%|          | 0.00/899k [00:00<?, ?B/s]"
            ],
            "application/vnd.jupyter.widget-view+json": {
              "version_major": 2,
              "version_minor": 0,
              "model_id": "3f70ae789b964820bc1d7aa8b38472fc"
            }
          },
          "metadata": {}
        },
        {
          "output_type": "display_data",
          "data": {
            "text/plain": [
              "Downloading:   0%|          | 0.00/456k [00:00<?, ?B/s]"
            ],
            "application/vnd.jupyter.widget-view+json": {
              "version_major": 2,
              "version_minor": 0,
              "model_id": "6c30d5a5832f4c40834e1bc580158804"
            }
          },
          "metadata": {}
        },
        {
          "output_type": "display_data",
          "data": {
            "text/plain": [
              "Downloading:   0%|          | 0.00/1.36M [00:00<?, ?B/s]"
            ],
            "application/vnd.jupyter.widget-view+json": {
              "version_major": 2,
              "version_minor": 0,
              "model_id": "c5d1732e7f5646c3aa76ef95c4dc7b87"
            }
          },
          "metadata": {}
        },
        {
          "output_type": "display_data",
          "data": {
            "text/plain": [
              "Downloading:   0%|          | 0.00/1.63G [00:00<?, ?B/s]"
            ],
            "application/vnd.jupyter.widget-view+json": {
              "version_major": 2,
              "version_minor": 0,
              "model_id": "b5df11378b554d749f2d7e204279175a"
            }
          },
          "metadata": {}
        }
      ],
      "source": [
        "# Load summarization pipeline\n",
        "from transformers import AutoTokenizer, AutoModelForSeq2SeqLM\n",
        "\n",
        "model_1_name = \"facebook/bart-large-cnn\"\n",
        "tokenizer_1 = AutoTokenizer.from_pretrained(model_1_name)\n",
        "model_1 = AutoModelForSeq2SeqLM.from_pretrained(model_1_name)\n",
        "  \n",
        "summarizer = pipeline(\"summarization\", model=model_1_name, tokenizer=tokenizer_1)\n",
        "\n",
        "# TRUNCATE string to TWO SENTENCES\n",
        "def firstTwoSentences(s: str):\n",
        "  \"\"\"\n",
        "  Input: string s\n",
        "  Returns: first two sentences in s\n",
        "  \"\"\"\n",
        "  # Truncate string at the last '.' or '?' or '!'\n",
        "  reverse = s[::-1]\n",
        "  LastFullStop = reverse.find(\".\")\n",
        "  LastQmark = reverse.find(\"?\")\n",
        "  LastXmark = reverse.find(\"!\")\n",
        "  lastStopSymbol = max(LastFullStop, LastQmark, LastXmark)\n",
        "\n",
        "  if lastStopSymbol >= 0 :\n",
        "    s = s[: len(s) - lastStopSymbol]\n",
        "\n",
        "  # Return the first two sentences\n",
        "  return ' '.join(split_in_sentences(s)[:2])\n",
        "\n",
        "# SUMMARY snippet\n",
        "def summary(paragraph: str):\n",
        "  \"\"\"\n",
        "  Input: paragraph - a string\n",
        "  Output: summary - a string. The summary of the paragraph.\n",
        "  Parameters: we set min_length to 10% of the paragraph's length and max_length to 40% respectively\n",
        "  \"\"\"\n",
        "  min_length=len(tokenizer_1(paragraph)['input_ids']) // 10\n",
        "  max_length= 5*min_length\n",
        "  summary = summarizer(paragraph, min_length=min_length, max_length=max_length)[0]['summary_text']\n",
        "  return firstTwoSentences(summary)"
      ]
    },
    {
      "cell_type": "code",
      "execution_count": 10,
      "metadata": {
        "id": "DEhuOlJWMtup",
        "colab": {
          "base_uri": "https://localhost:8080/"
        },
        "outputId": "b95008d1-78f9-40ab-96f7-cb581e9fa6aa"
      },
      "outputs": [
        {
          "output_type": "stream",
          "name": "stdout",
          "text": [
            "PARAGRAPH:\n",
            "Artificial modification of ones own nature in order to make it resemble a mirror; one is interested, but only epidermally: this is systematic coolness, equilibrium, a steady low temperature, just beneath the thin surface on which warmth, movement, storm, and undulations play.\n",
            "\n",
            "SUMMARY:\n",
            "A mirror is an artificial modification of ones own nature in order to make it resemble a mirror.\n",
            "----------------------------------------------------------------------------------------------------\n",
            "PARAGRAPH:\n",
            "Artificial modification of ones own nature in order to make it resemble a mirror; one is interested, but only epidermally: this is systematic coolness, equilibrium, a steady low temperature, just beneath the thin surface on which warmth, movement, storm, and undulations play.\n",
            "\n",
            "SUMMARY:\n",
            "A mirror is an artificial modification of ones own nature in order to make it resemble a mirror.\n",
            "----------------------------------------------------------------------------------------------------\n",
            "PARAGRAPH:\n",
            "Romanticism is the counterstroke of the eighteenth century; a sort of accumulated longing for its grand style of exaltation .\n",
            "\n",
            "SUMMARY:\n",
            "Romanticism is the counterstroke of\n",
            "----------------------------------------------------------------------------------------------------\n"
          ]
        }
      ],
      "source": [
        "# Print text by sentences\n",
        "def printBySentence(text: str):\n",
        "  for sent in split_in_sentences(text):\n",
        "    print(sent)\n",
        "  return\n",
        "\n",
        "# TEST SUMMARIZER with a few paragraphs\n",
        "import random\n",
        "for step in range(3):\n",
        "  t = random.randint(0, len(df['paragraph']))\n",
        "  paragraph = df['paragraph'][t]\n",
        "  print(\"PARAGRAPH:\")\n",
        "  printBySentence(paragraph)\n",
        "\n",
        "  print(\"\\nSUMMARY:\")\n",
        "  printBySentence(summary(paragraph))\n",
        "  print(100*'-')"
      ]
    },
    {
      "cell_type": "markdown",
      "metadata": {
        "id": "nU2IJ5OyQUc6"
      },
      "source": [
        "# Text to (relevant) paragraph"
      ]
    },
    {
      "cell_type": "code",
      "execution_count": 11,
      "metadata": {
        "id": "hEs5pUeKJd3w",
        "colab": {
          "base_uri": "https://localhost:8080/"
        },
        "outputId": "9cb41760-039f-4df4-8b9f-32ef066bad56"
      },
      "outputs": [
        {
          "output_type": "stream",
          "name": "stdout",
          "text": [
            "----------------------------------------------------------------------------------------------------\n",
            "Input:  How much power should people have in european politics? \n",
            "\n",
            "Henrik Ibsen never dared to ring himself free from moral illusionism which says freedom, and will not admit, even to itself, what freedom is.\n",
            "----------------------------------------------------------------------------------------------------\n",
            "Input:  Can religion save the evil in the world? \n",
            "\n",
            "Kant seems to have needed the hypothesis of intelligible freedom, in order to relieve the ens perfectum of\n",
            "----------------------------------------------------------------------------------------------------\n",
            "Input:  What is the meaning of Love, to live in a more peaceful world? \n",
            "\n",
            "Nihilism will have to manifest itself as a psychological condition, first when we have sought in all that has happened a purpose which is not there.\n",
            "Nihilism is therefore the coming into consciousness of the long waste of strength, the pain of futility, uncertainty.\n",
            "----------------------------------------------------------------------------------------------------\n",
            "Input:  Is Nihilism an alternative to hope? \n",
            "\n",
            "The Nihilist supposes that the sight of such a desolate, useless Being is unsatisfying to the philosopher, and fills him with desolation and despair.\n",
            "This aspect of the case is opposed to our subtle sensibilities as a philosopher.\n"
          ]
        }
      ],
      "source": [
        "# TEST\n",
        "\n",
        "testQuestion = []\n",
        "testQuestion.append('How much power should people have in european politics?')\n",
        "testQuestion.append('Can religion save the evil in the world?')\n",
        "testQuestion.append('What is the meaning of Love, to live in a more peaceful world?')\n",
        "testQuestion.append('Is Nihilism an alternative to hope?')\n",
        "\n",
        "for text in testQuestion:\n",
        "  print(100*'-')\n",
        "  print(\"Input: \", text, '\\n') \n",
        "  paragraph = textToParagraph(text)\n",
        "  printBySentence(summary(paragraph))"
      ]
    },
    {
      "cell_type": "markdown",
      "metadata": {
        "id": "r1GCGMixysRm"
      },
      "source": [
        "# Question Generator"
      ]
    },
    {
      "cell_type": "code",
      "execution_count": 17,
      "metadata": {
        "id": "M0Ra_ZH8-49L"
      },
      "outputs": [],
      "source": [
        "# Load the TOKENIZER\n",
        "model_name = \"distilgpt2\"\n",
        "\n",
        "tokenizer = AutoTokenizer.from_pretrained(model_name)\n",
        "\n",
        "tokenizer.pad_token = tokenizer.eos_token"
      ]
    },
    {
      "cell_type": "code",
      "execution_count": 23,
      "metadata": {
        "id": "aKcVkeOOVNtz",
        "scrolled": true
      },
      "outputs": [],
      "source": [
        "# GENERATE QUESTION WITH FINE-TUNED MODEL\n",
        "\n",
        "# Load the fine-tuned model from local (a file pytorch_model.bin must be in the current directory)\n",
        "model = AutoModelForCausalLM.from_pretrained(\"./\")\n",
        "\n",
        "# Snippet to TRUNCATE strings to QUESTION mark\n",
        "def questionTruncate(s: str):\n",
        "  \"\"\"\n",
        "  String polisher for outputting clean questions.\n",
        "  Input: string s\n",
        "  Returns: string s truncated at the FIRST \"?\" char or at the LAST \".\" char\n",
        "  \"\"\"\n",
        "  reverse = s[::-1]\n",
        "  LastFullStop = reverse.find(\".\")\n",
        "  FirstQuestMark = s.find(\"?\")\n",
        "  if FirstQuestMark >= 0 :\n",
        "    return s[: FirstQuestMark +1 ]\n",
        "  elif LastFullStop >= 0 :\n",
        "    return s[: len(s) - LastFullStop]\n",
        "  return s\n",
        "\n",
        "# Test\n",
        "#for s in ['Multiple? more than one?', 'First? Then no question.', 'No punctuation', 'No question.']:\n",
        "#  print(questionTruncate(s))\n",
        "\n",
        "\n",
        "# QUESTION GENERATOR\n",
        "\n",
        "def questionGenerator(text: str):\n",
        "  \"\"\"\n",
        "  Input:\n",
        "  Returns:\n",
        "  \"\"\"\n",
        "  # ENCODE input and add 'end-of-string' token\n",
        "  input_ids = tokenizer.encode(text + tokenizer.eos_token, return_tensors=\"pt\")\n",
        "  l = len(input_ids)\n",
        "  # GENERATE\n",
        "  chat_history_ids = model.generate(\n",
        "      input_ids,\n",
        "      max_length=l+80,\n",
        "      do_sample=True,\n",
        "      top_p=0.91,\n",
        "      top_k=10,\n",
        "      temperature=0.75,\n",
        "      early_stopping=True, #####\n",
        "      pad_token_id=tokenizer.eos_token_id\n",
        "  )\n",
        "\n",
        "  # DECODE to string\n",
        "  output = tokenizer.decode(chat_history_ids[:, input_ids.shape[-1]:][0], skip_special_tokens=True)\n",
        "  return output"
      ]
    },
    {
      "cell_type": "code",
      "source": [
        "from google.colab import drive\n",
        "drive.mount('/content/drive')"
      ],
      "metadata": {
        "colab": {
          "base_uri": "https://localhost:8080/"
        },
        "id": "BtDPHDyYWu9g",
        "outputId": "65281671-fc5b-42f7-eb3d-12947fdada9e"
      },
      "execution_count": 24,
      "outputs": [
        {
          "output_type": "stream",
          "name": "stdout",
          "text": [
            "Mounted at /content/drive\n"
          ]
        }
      ]
    },
    {
      "cell_type": "code",
      "execution_count": 26,
      "metadata": {
        "id": "v1mEjqoZHlP-",
        "colab": {
          "base_uri": "https://localhost:8080/"
        },
        "outputId": "efea562a-8f60-45ae-feed-161deb19d491"
      },
      "outputs": [
        {
          "output_type": "stream",
          "name": "stderr",
          "text": [
            "A decoder-only architecture is being used, but right-padding was detected! For correct generation results, please set `padding_side='left'` when initializing the tokenizer.\n",
            "A decoder-only architecture is being used, but right-padding was detected! For correct generation results, please set `padding_side='left'` when initializing the tokenizer.\n"
          ]
        },
        {
          "output_type": "stream",
          "name": "stdout",
          "text": [
            "Text: What does Nihilism mean? \n",
            "\n",
            "Bot: What does the term for the word for the highest value of a philosopher and philosopher?In the modern context, what does the word for a philosopher and philosopher mean?The word for the highest value of a philosopher.In the modern context, what is the meaning of the word for the highest value of a philosopher?The term for the highest value of a philosopher is \n",
            " ----------------------------------------------------------------------------------------------------\n"
          ]
        },
        {
          "output_type": "stream",
          "name": "stderr",
          "text": [
            "A decoder-only architecture is being used, but right-padding was detected! For correct generation results, please set `padding_side='left'` when initializing the tokenizer.\n"
          ]
        },
        {
          "output_type": "stream",
          "name": "stdout",
          "text": [
            "Text: What is Pessimism \n",
            "\n",
            "Bot: I am the old woman who has just returned home from a long journey to the moon. I am a little disappointed that my friends and I have to do this for you: why?...What?What?Because, I mean, is it a question of morality?...But what is the meaning of that term?Because the meaning of this question is to make one wish \n",
            " ----------------------------------------------------------------------------------------------------\n"
          ]
        },
        {
          "output_type": "stream",
          "name": "stderr",
          "text": [
            "A decoder-only architecture is being used, but right-padding was detected! For correct generation results, please set `padding_side='left'` when initializing the tokenizer.\n"
          ]
        },
        {
          "output_type": "stream",
          "name": "stdout",
          "text": [
            "Text: What is the purpose? \n",
            "\n",
            "Bot: The question: What is the meaning of the word, and what is the meaning of the word, for the sake of the word?The question: What is the meaning of the word?The question: What is the meaning of the word?The word: What is the meaning of the word?The question: What is the meaning of the word?The meaning of the \n",
            " ----------------------------------------------------------------------------------------------------\n",
            "Text: Prejudice against science? \n",
            "\n",
            "Bot: The following is a guest post by Richard Dawkins, a philosopher, who is now a philosopher and philosopher. I am sure that you will have noticed that the most important point of view is that of the Christian, the Christian, the Christian is not Christian. Why?Because, in this respect, we are talking about a man. What is the meaning of this word? \n",
            " ----------------------------------------------------------------------------------------------------\n"
          ]
        }
      ],
      "source": [
        "# Test\n",
        "for text in ['What does Nihilism mean?', 'What is Pessimism', 'What is the purpose?', 'Prejudice against science?']:\n",
        "  print(f\"Text: {text} \\n\\nBot: {questionGenerator(text)} \\n\", 100*'-')"
      ]
    },
    {
      "cell_type": "markdown",
      "metadata": {
        "id": "FCwF0uEv7Kp4"
      },
      "source": [
        "# PhilosopherBot"
      ]
    },
    {
      "cell_type": "code",
      "execution_count": 27,
      "metadata": {
        "id": "hOg7ufTd7OoM"
      },
      "outputs": [],
      "source": [
        "\"\"\"\n",
        "MAIN LOGIC IS AS FOLLOWS:\n",
        "input -> topic -> relevant paragraph \n",
        "-> use last sentence of paragraph to generate question \n",
        "-> print(question, paragraph, summarization of previous two)\n",
        "\"\"\"\n",
        "\n",
        "def bot(text):\n",
        "  paragraph = textToParagraph(text)\n",
        "  summarized_paragraph = summary(paragraph)\n",
        "\n",
        "  print(summarized_paragraph)\n",
        "\n",
        "  lastSentence = split_in_sentences(summarized_paragraph)[-1]\n",
        "  question = questionGenerator(lastSentence)\n",
        "  question = questionTruncate(question)\n",
        "  for sent in split_in_sentences(question):\n",
        "    print(sent)\n",
        "  return"
      ]
    },
    {
      "cell_type": "code",
      "execution_count": 28,
      "metadata": {
        "id": "PKn_jxgsZ9SF",
        "colab": {
          "base_uri": "https://localhost:8080/"
        },
        "outputId": "285fc3f2-cac5-4ceb-d58d-c7f4c84d4ed2"
      },
      "outputs": [
        {
          "output_type": "stream",
          "name": "stderr",
          "text": [
            "A decoder-only architecture is being used, but right-padding was detected! For correct generation results, please set `padding_side='left'` when initializing the tokenizer.\n",
            "A decoder-only architecture is being used, but right-padding was detected! For correct generation results, please set `padding_side='left'` when initializing the tokenizer.\n",
            "A decoder-only architecture is being used, but right-padding was detected! For correct generation results, please set `padding_side='left'` when initializing the tokenizer.\n",
            "A decoder-only architecture is being used, but right-padding was detected! For correct generation results, please set `padding_side='left'` when initializing the tokenizer.\n",
            "A decoder-only architecture is being used, but right-padding was detected! For correct generation results, please set `padding_side='left'` when initializing the tokenizer.\n"
          ]
        },
        {
          "output_type": "stream",
          "name": "stdout",
          "text": [
            "Input text:\n",
            "Tell me about God and the meaning of Life\n",
            "Bot: \n",
            "\n"
          ]
        },
        {
          "output_type": "stream",
          "name": "stderr",
          "text": [
            "A decoder-only architecture is being used, but right-padding was detected! For correct generation results, please set `padding_side='left'` when initializing the tokenizer.\n"
          ]
        },
        {
          "output_type": "stream",
          "name": "stdout",
          "text": [
            "Sensitiveness is infinitely more acute, the abundance of different impressions is greater than ever. The cosmopolitanism of articles of diet, of literature, newspapers, forms, tastes, and even landscapes.\n",
            "What is the meaning of the word, the word for the most dangerous and dangerous word?\n",
            "----------------------------------------------------------------------------------------------------\n",
            "Input text:\n",
            "The first thing I want to do is to give you an idea of the value of a story. Why should I care if I am not a philosopher?...I mean, the term is the word for a philosopher, and it is not a word for an artist. The word for a philosopher is, however, a word for the philosopher.The word\n",
            "Bot: \n",
            "\n"
          ]
        },
        {
          "output_type": "stream",
          "name": "stderr",
          "text": [
            "A decoder-only architecture is being used, but right-padding was detected! For correct generation results, please set `padding_side='left'` when initializing the tokenizer.\n"
          ]
        },
        {
          "output_type": "stream",
          "name": "stdout",
          "text": [
            "The courage of all one really knows comes but late in life. The energy and thoroughness with which I marched forward as a Nihilist deceived me concerning this fundamental principle.\n",
            "The idea that there is a God-worship is a paradox: what is it that makes the world of the world?\n",
            "----------------------------------------------------------------------------------------------------\n",
            "Input text:\n",
            "A new book is coming out of the book\n",
            "Bot: \n",
            "\n"
          ]
        },
        {
          "output_type": "stream",
          "name": "stderr",
          "text": [
            "A decoder-only architecture is being used, but right-padding was detected! For correct generation results, please set `padding_side='left'` when initializing the tokenizer.\n"
          ]
        },
        {
          "output_type": "stream",
          "name": "stdout",
          "text": [
            "The gregarious instinct, then,  now a sovereign power, is something totally different from the instinct of an aristocratic society.\n",
            "We are now ready to give you a new look at the history of the German Empire: what did the German Empire do to the German people?\n",
            "----------------------------------------------------------------------------------------------------\n",
            "Input text:\n",
            "Anxiety, a feeling that, as we know it, is not always a good time for me to give you a short explanation of the meaning of a word for it. What is the meaning of this expression, the meaning of which is a German word?It is a very personal question, as well as a question of meaning in German. To be\n",
            "Bot: \n",
            "\n"
          ]
        },
        {
          "output_type": "stream",
          "name": "stderr",
          "text": [
            "A decoder-only architecture is being used, but right-padding was detected! For correct generation results, please set `padding_side='left'` when initializing the tokenizer.\n"
          ]
        },
        {
          "output_type": "stream",
          "name": "stdout",
          "text": [
            "European Pessimism is still in its infancy, says the writer. It has not yet attained to that prodigious and yearning fixity of sight.\n",
            "In this case, the German term is German: the word for the German word for the German word for a man and woman, the German word for the German word for a woman and man.\n",
            "----------------------------------------------------------------------------------------------------\n",
            "Input text:\n",
            "This is the first time I have ever heard\n",
            "Bot: \n",
            "\n"
          ]
        },
        {
          "output_type": "stream",
          "name": "stderr",
          "text": [
            "A decoder-only architecture is being used, but right-padding was detected! For correct generation results, please set `padding_side='left'` when initializing the tokenizer.\n"
          ]
        },
        {
          "output_type": "stream",
          "name": "stdout",
          "text": [
            "We despise ourselves only because we are unable at every moment of our lives to quell that absurd emotion which is called Idealism.\n",
            "What is the significance of this word?\n",
            "----------------------------------------------------------------------------------------------------\n"
          ]
        }
      ],
      "source": [
        "testQuestion = []\n",
        "text = 'Tell me about God and the meaning of Life'\n",
        "for step in range(5):\n",
        "  testQuestion.append(text)\n",
        "  text = questionGenerator(text)\n",
        "\n",
        "for text in testQuestion:\n",
        "  print(\"Input text:\\n\" + text)\n",
        "  print(\"Bot: \\n\")\n",
        "  bot(text)\n",
        "  print(100 * '-')"
      ]
    },
    {
      "cell_type": "code",
      "execution_count": 29,
      "metadata": {
        "id": "gZrHW6Ugo3sy",
        "colab": {
          "base_uri": "https://localhost:8080/"
        },
        "outputId": "42201299-3f8e-4180-c580-36c9c1ce237c"
      },
      "outputs": [
        {
          "output_type": "stream",
          "name": "stdout",
          "text": [
            "----------------------------------------------------------------------------------------------------\n",
            "How much power should people have in european politics?\n",
            "\n"
          ]
        },
        {
          "output_type": "stream",
          "name": "stderr",
          "text": [
            "A decoder-only architecture is being used, but right-padding was detected! For correct generation results, please set `padding_side='left'` when initializing the tokenizer.\n"
          ]
        },
        {
          "output_type": "stream",
          "name": "stdout",
          "text": [
            "Henrik Ibsen never dared to ring himself free from moral illusionism which says freedom, and will not admit, even to itself, what freedom is.\n",
            "The question, why should I care?\n",
            "----------------------------------------------------------------------------------------------------\n",
            "Can religion save the evil in the world?\n",
            "\n"
          ]
        },
        {
          "output_type": "stream",
          "name": "stderr",
          "text": [
            "A decoder-only architecture is being used, but right-padding was detected! For correct generation results, please set `padding_side='left'` when initializing the tokenizer.\n"
          ]
        },
        {
          "output_type": "stream",
          "name": "stdout",
          "text": [
            "Kant seems to have needed the hypothesis of intelligible freedom, in order to relieve the ens perfectum of\n",
            "We have a long time to go back to the days when the world was full of evil, evil and evil, but I think it is time for the world to go back to its old days.\n",
            "But what is it that makes it so beautiful?\n",
            "----------------------------------------------------------------------------------------------------\n",
            "What is the meaning of Love, to live in a more peaceful world?\n",
            "\n"
          ]
        },
        {
          "output_type": "stream",
          "name": "stderr",
          "text": [
            "A decoder-only architecture is being used, but right-padding was detected! For correct generation results, please set `padding_side='left'` when initializing the tokenizer.\n"
          ]
        },
        {
          "output_type": "stream",
          "name": "stdout",
          "text": [
            "Nihilism will have to manifest itself as a psychological condition, first when we have sought in all that has happened a purpose which is not there. Nihilism is therefore the coming into consciousness of the long waste of strength, the pain of futility, uncertainty.\n",
            "The question: Why are you so passionate about the idea of a new world?\n",
            "----------------------------------------------------------------------------------------------------\n",
            "Is Nihilism an alternative to hope?\n",
            "\n"
          ]
        },
        {
          "output_type": "stream",
          "name": "stderr",
          "text": [
            "A decoder-only architecture is being used, but right-padding was detected! For correct generation results, please set `padding_side='left'` when initializing the tokenizer.\n"
          ]
        },
        {
          "output_type": "stream",
          "name": "stdout",
          "text": [
            "The Nihilist supposes that the sight of such a desolate, useless Being is unsatisfying to the philosopher, and fills him with desolation and despair. This aspect of the case is opposed to our subtle sensibilities as a philosopher.\n",
            "This is the first time that the world has been transformed into a new world of mythological and mythological religions.\n",
            "What is the meaning of the word myth?\n",
            "----------------------------------------------------------------------------------------------------\n",
            "If children grow up in this World, how can we teach them how to live more sustainably?\n",
            "\n"
          ]
        },
        {
          "output_type": "stream",
          "name": "stderr",
          "text": [
            "A decoder-only architecture is being used, but right-padding was detected! For correct generation results, please set `padding_side='left'` when initializing the tokenizer.\n"
          ]
        },
        {
          "output_type": "stream",
          "name": "stdout",
          "text": [
            "We must ask ourselves whence we derived our belief in these three categories. Let us see if it is possible to refuse to believe in them.\n",
            "The first question is: What is the meaning of the word, and how can we know that the meaning of the word itself is in the same order as the meaning of the word itself?\n"
          ]
        }
      ],
      "source": [
        "testQuestion = []\n",
        "testQuestion.append('How much power should people have in european politics?')\n",
        "testQuestion.append('Can religion save the evil in the world?')\n",
        "testQuestion.append('What is the meaning of Love, to live in a more peaceful world?')\n",
        "testQuestion.append('Is Nihilism an alternative to hope?')\n",
        "testQuestion.append('If children grow up in this World, how can we teach them how to live more sustainably?')\n",
        "\n",
        "for text in testQuestion:\n",
        "  print(100 * '-')  \n",
        "  print(text + '\\n')\n",
        "  bot(text)\n"
      ]
    },
    {
      "cell_type": "code",
      "execution_count": 29,
      "metadata": {
        "id": "uNyPMzMoP6Op"
      },
      "outputs": [],
      "source": []
    }
  ],
  "metadata": {
    "colab": {
      "collapsed_sections": [],
      "provenance": []
    },
    "kernelspec": {
      "display_name": "Python 3",
      "language": "python",
      "name": "python3"
    },
    "language_info": {
      "codemirror_mode": {
        "name": "ipython",
        "version": 3
      },
      "file_extension": ".py",
      "mimetype": "text/x-python",
      "name": "python",
      "nbconvert_exporter": "python",
      "pygments_lexer": "ipython3",
      "version": "3.8.5"
    },
    "gpuClass": "standard",
    "widgets": {
      "application/vnd.jupyter.widget-state+json": {
        "3673d7f7447143f1beae1b8d593c42ff": {
          "model_module": "@jupyter-widgets/controls",
          "model_name": "HBoxModel",
          "model_module_version": "1.5.0",
          "state": {
            "_dom_classes": [],
            "_model_module": "@jupyter-widgets/controls",
            "_model_module_version": "1.5.0",
            "_model_name": "HBoxModel",
            "_view_count": null,
            "_view_module": "@jupyter-widgets/controls",
            "_view_module_version": "1.5.0",
            "_view_name": "HBoxView",
            "box_style": "",
            "children": [
              "IPY_MODEL_045f40396e5749e8a0ed2acdd0669c2e",
              "IPY_MODEL_8e90109592e94bf780bdf873d652f13d",
              "IPY_MODEL_e25f9106f80444e1ac05f165af31478a"
            ],
            "layout": "IPY_MODEL_02ee4de9196e4d66a6c161753138be13"
          }
        },
        "045f40396e5749e8a0ed2acdd0669c2e": {
          "model_module": "@jupyter-widgets/controls",
          "model_name": "HTMLModel",
          "model_module_version": "1.5.0",
          "state": {
            "_dom_classes": [],
            "_model_module": "@jupyter-widgets/controls",
            "_model_module_version": "1.5.0",
            "_model_name": "HTMLModel",
            "_view_count": null,
            "_view_module": "@jupyter-widgets/controls",
            "_view_module_version": "1.5.0",
            "_view_name": "HTMLView",
            "description": "",
            "description_tooltip": null,
            "layout": "IPY_MODEL_833da9e4928e47c29835484ba1aa4c48",
            "placeholder": "​",
            "style": "IPY_MODEL_d797daea518e40cdaa3f66baacf1ab81",
            "value": "Downloading: 100%"
          }
        },
        "8e90109592e94bf780bdf873d652f13d": {
          "model_module": "@jupyter-widgets/controls",
          "model_name": "FloatProgressModel",
          "model_module_version": "1.5.0",
          "state": {
            "_dom_classes": [],
            "_model_module": "@jupyter-widgets/controls",
            "_model_module_version": "1.5.0",
            "_model_name": "FloatProgressModel",
            "_view_count": null,
            "_view_module": "@jupyter-widgets/controls",
            "_view_module_version": "1.5.0",
            "_view_name": "ProgressView",
            "bar_style": "success",
            "description": "",
            "description_tooltip": null,
            "layout": "IPY_MODEL_7e8cf65d017a4aa997e37f4714db33e1",
            "max": 1585,
            "min": 0,
            "orientation": "horizontal",
            "style": "IPY_MODEL_78ad808ea7e1412682c6ff17226b42c0",
            "value": 1585
          }
        },
        "e25f9106f80444e1ac05f165af31478a": {
          "model_module": "@jupyter-widgets/controls",
          "model_name": "HTMLModel",
          "model_module_version": "1.5.0",
          "state": {
            "_dom_classes": [],
            "_model_module": "@jupyter-widgets/controls",
            "_model_module_version": "1.5.0",
            "_model_name": "HTMLModel",
            "_view_count": null,
            "_view_module": "@jupyter-widgets/controls",
            "_view_module_version": "1.5.0",
            "_view_name": "HTMLView",
            "description": "",
            "description_tooltip": null,
            "layout": "IPY_MODEL_ca600012788440888cbea5dd9e72fef7",
            "placeholder": "​",
            "style": "IPY_MODEL_9f0a4f39b51a40bebea0074e2430cb66",
            "value": " 1.58k/1.58k [00:00&lt;00:00, 37.3kB/s]"
          }
        },
        "02ee4de9196e4d66a6c161753138be13": {
          "model_module": "@jupyter-widgets/base",
          "model_name": "LayoutModel",
          "model_module_version": "1.2.0",
          "state": {
            "_model_module": "@jupyter-widgets/base",
            "_model_module_version": "1.2.0",
            "_model_name": "LayoutModel",
            "_view_count": null,
            "_view_module": "@jupyter-widgets/base",
            "_view_module_version": "1.2.0",
            "_view_name": "LayoutView",
            "align_content": null,
            "align_items": null,
            "align_self": null,
            "border": null,
            "bottom": null,
            "display": null,
            "flex": null,
            "flex_flow": null,
            "grid_area": null,
            "grid_auto_columns": null,
            "grid_auto_flow": null,
            "grid_auto_rows": null,
            "grid_column": null,
            "grid_gap": null,
            "grid_row": null,
            "grid_template_areas": null,
            "grid_template_columns": null,
            "grid_template_rows": null,
            "height": null,
            "justify_content": null,
            "justify_items": null,
            "left": null,
            "margin": null,
            "max_height": null,
            "max_width": null,
            "min_height": null,
            "min_width": null,
            "object_fit": null,
            "object_position": null,
            "order": null,
            "overflow": null,
            "overflow_x": null,
            "overflow_y": null,
            "padding": null,
            "right": null,
            "top": null,
            "visibility": null,
            "width": null
          }
        },
        "833da9e4928e47c29835484ba1aa4c48": {
          "model_module": "@jupyter-widgets/base",
          "model_name": "LayoutModel",
          "model_module_version": "1.2.0",
          "state": {
            "_model_module": "@jupyter-widgets/base",
            "_model_module_version": "1.2.0",
            "_model_name": "LayoutModel",
            "_view_count": null,
            "_view_module": "@jupyter-widgets/base",
            "_view_module_version": "1.2.0",
            "_view_name": "LayoutView",
            "align_content": null,
            "align_items": null,
            "align_self": null,
            "border": null,
            "bottom": null,
            "display": null,
            "flex": null,
            "flex_flow": null,
            "grid_area": null,
            "grid_auto_columns": null,
            "grid_auto_flow": null,
            "grid_auto_rows": null,
            "grid_column": null,
            "grid_gap": null,
            "grid_row": null,
            "grid_template_areas": null,
            "grid_template_columns": null,
            "grid_template_rows": null,
            "height": null,
            "justify_content": null,
            "justify_items": null,
            "left": null,
            "margin": null,
            "max_height": null,
            "max_width": null,
            "min_height": null,
            "min_width": null,
            "object_fit": null,
            "object_position": null,
            "order": null,
            "overflow": null,
            "overflow_x": null,
            "overflow_y": null,
            "padding": null,
            "right": null,
            "top": null,
            "visibility": null,
            "width": null
          }
        },
        "d797daea518e40cdaa3f66baacf1ab81": {
          "model_module": "@jupyter-widgets/controls",
          "model_name": "DescriptionStyleModel",
          "model_module_version": "1.5.0",
          "state": {
            "_model_module": "@jupyter-widgets/controls",
            "_model_module_version": "1.5.0",
            "_model_name": "DescriptionStyleModel",
            "_view_count": null,
            "_view_module": "@jupyter-widgets/base",
            "_view_module_version": "1.2.0",
            "_view_name": "StyleView",
            "description_width": ""
          }
        },
        "7e8cf65d017a4aa997e37f4714db33e1": {
          "model_module": "@jupyter-widgets/base",
          "model_name": "LayoutModel",
          "model_module_version": "1.2.0",
          "state": {
            "_model_module": "@jupyter-widgets/base",
            "_model_module_version": "1.2.0",
            "_model_name": "LayoutModel",
            "_view_count": null,
            "_view_module": "@jupyter-widgets/base",
            "_view_module_version": "1.2.0",
            "_view_name": "LayoutView",
            "align_content": null,
            "align_items": null,
            "align_self": null,
            "border": null,
            "bottom": null,
            "display": null,
            "flex": null,
            "flex_flow": null,
            "grid_area": null,
            "grid_auto_columns": null,
            "grid_auto_flow": null,
            "grid_auto_rows": null,
            "grid_column": null,
            "grid_gap": null,
            "grid_row": null,
            "grid_template_areas": null,
            "grid_template_columns": null,
            "grid_template_rows": null,
            "height": null,
            "justify_content": null,
            "justify_items": null,
            "left": null,
            "margin": null,
            "max_height": null,
            "max_width": null,
            "min_height": null,
            "min_width": null,
            "object_fit": null,
            "object_position": null,
            "order": null,
            "overflow": null,
            "overflow_x": null,
            "overflow_y": null,
            "padding": null,
            "right": null,
            "top": null,
            "visibility": null,
            "width": null
          }
        },
        "78ad808ea7e1412682c6ff17226b42c0": {
          "model_module": "@jupyter-widgets/controls",
          "model_name": "ProgressStyleModel",
          "model_module_version": "1.5.0",
          "state": {
            "_model_module": "@jupyter-widgets/controls",
            "_model_module_version": "1.5.0",
            "_model_name": "ProgressStyleModel",
            "_view_count": null,
            "_view_module": "@jupyter-widgets/base",
            "_view_module_version": "1.2.0",
            "_view_name": "StyleView",
            "bar_color": null,
            "description_width": ""
          }
        },
        "ca600012788440888cbea5dd9e72fef7": {
          "model_module": "@jupyter-widgets/base",
          "model_name": "LayoutModel",
          "model_module_version": "1.2.0",
          "state": {
            "_model_module": "@jupyter-widgets/base",
            "_model_module_version": "1.2.0",
            "_model_name": "LayoutModel",
            "_view_count": null,
            "_view_module": "@jupyter-widgets/base",
            "_view_module_version": "1.2.0",
            "_view_name": "LayoutView",
            "align_content": null,
            "align_items": null,
            "align_self": null,
            "border": null,
            "bottom": null,
            "display": null,
            "flex": null,
            "flex_flow": null,
            "grid_area": null,
            "grid_auto_columns": null,
            "grid_auto_flow": null,
            "grid_auto_rows": null,
            "grid_column": null,
            "grid_gap": null,
            "grid_row": null,
            "grid_template_areas": null,
            "grid_template_columns": null,
            "grid_template_rows": null,
            "height": null,
            "justify_content": null,
            "justify_items": null,
            "left": null,
            "margin": null,
            "max_height": null,
            "max_width": null,
            "min_height": null,
            "min_width": null,
            "object_fit": null,
            "object_position": null,
            "order": null,
            "overflow": null,
            "overflow_x": null,
            "overflow_y": null,
            "padding": null,
            "right": null,
            "top": null,
            "visibility": null,
            "width": null
          }
        },
        "9f0a4f39b51a40bebea0074e2430cb66": {
          "model_module": "@jupyter-widgets/controls",
          "model_name": "DescriptionStyleModel",
          "model_module_version": "1.5.0",
          "state": {
            "_model_module": "@jupyter-widgets/controls",
            "_model_module_version": "1.5.0",
            "_model_name": "DescriptionStyleModel",
            "_view_count": null,
            "_view_module": "@jupyter-widgets/base",
            "_view_module_version": "1.2.0",
            "_view_name": "StyleView",
            "description_width": ""
          }
        },
        "3f70ae789b964820bc1d7aa8b38472fc": {
          "model_module": "@jupyter-widgets/controls",
          "model_name": "HBoxModel",
          "model_module_version": "1.5.0",
          "state": {
            "_dom_classes": [],
            "_model_module": "@jupyter-widgets/controls",
            "_model_module_version": "1.5.0",
            "_model_name": "HBoxModel",
            "_view_count": null,
            "_view_module": "@jupyter-widgets/controls",
            "_view_module_version": "1.5.0",
            "_view_name": "HBoxView",
            "box_style": "",
            "children": [
              "IPY_MODEL_714913e401cc4dd7bef14c697e43efb5",
              "IPY_MODEL_a48924b8f3ab435f9fc729a7aa535b06",
              "IPY_MODEL_d9b97bc2bb0a40f38b397a89f65eb537"
            ],
            "layout": "IPY_MODEL_c2cc454215e24c70a9130c10f16629b1"
          }
        },
        "714913e401cc4dd7bef14c697e43efb5": {
          "model_module": "@jupyter-widgets/controls",
          "model_name": "HTMLModel",
          "model_module_version": "1.5.0",
          "state": {
            "_dom_classes": [],
            "_model_module": "@jupyter-widgets/controls",
            "_model_module_version": "1.5.0",
            "_model_name": "HTMLModel",
            "_view_count": null,
            "_view_module": "@jupyter-widgets/controls",
            "_view_module_version": "1.5.0",
            "_view_name": "HTMLView",
            "description": "",
            "description_tooltip": null,
            "layout": "IPY_MODEL_9e332b82de0d4bfca4fd2fd4951eb1c4",
            "placeholder": "​",
            "style": "IPY_MODEL_c836fc2187724fb79754eeaf4c0b2e4c",
            "value": "Downloading: 100%"
          }
        },
        "a48924b8f3ab435f9fc729a7aa535b06": {
          "model_module": "@jupyter-widgets/controls",
          "model_name": "FloatProgressModel",
          "model_module_version": "1.5.0",
          "state": {
            "_dom_classes": [],
            "_model_module": "@jupyter-widgets/controls",
            "_model_module_version": "1.5.0",
            "_model_name": "FloatProgressModel",
            "_view_count": null,
            "_view_module": "@jupyter-widgets/controls",
            "_view_module_version": "1.5.0",
            "_view_name": "ProgressView",
            "bar_style": "success",
            "description": "",
            "description_tooltip": null,
            "layout": "IPY_MODEL_2a527f25cb664782ad4b5cdcf5912bea",
            "max": 898823,
            "min": 0,
            "orientation": "horizontal",
            "style": "IPY_MODEL_6b22c4f1040d4db2a38a03a2da5d53ff",
            "value": 898823
          }
        },
        "d9b97bc2bb0a40f38b397a89f65eb537": {
          "model_module": "@jupyter-widgets/controls",
          "model_name": "HTMLModel",
          "model_module_version": "1.5.0",
          "state": {
            "_dom_classes": [],
            "_model_module": "@jupyter-widgets/controls",
            "_model_module_version": "1.5.0",
            "_model_name": "HTMLModel",
            "_view_count": null,
            "_view_module": "@jupyter-widgets/controls",
            "_view_module_version": "1.5.0",
            "_view_name": "HTMLView",
            "description": "",
            "description_tooltip": null,
            "layout": "IPY_MODEL_da9d2ab9decd4d62aa85be603efdf27d",
            "placeholder": "​",
            "style": "IPY_MODEL_3e48531504e2481d92de6c30b8ece7fb",
            "value": " 899k/899k [00:01&lt;00:00, 1.20MB/s]"
          }
        },
        "c2cc454215e24c70a9130c10f16629b1": {
          "model_module": "@jupyter-widgets/base",
          "model_name": "LayoutModel",
          "model_module_version": "1.2.0",
          "state": {
            "_model_module": "@jupyter-widgets/base",
            "_model_module_version": "1.2.0",
            "_model_name": "LayoutModel",
            "_view_count": null,
            "_view_module": "@jupyter-widgets/base",
            "_view_module_version": "1.2.0",
            "_view_name": "LayoutView",
            "align_content": null,
            "align_items": null,
            "align_self": null,
            "border": null,
            "bottom": null,
            "display": null,
            "flex": null,
            "flex_flow": null,
            "grid_area": null,
            "grid_auto_columns": null,
            "grid_auto_flow": null,
            "grid_auto_rows": null,
            "grid_column": null,
            "grid_gap": null,
            "grid_row": null,
            "grid_template_areas": null,
            "grid_template_columns": null,
            "grid_template_rows": null,
            "height": null,
            "justify_content": null,
            "justify_items": null,
            "left": null,
            "margin": null,
            "max_height": null,
            "max_width": null,
            "min_height": null,
            "min_width": null,
            "object_fit": null,
            "object_position": null,
            "order": null,
            "overflow": null,
            "overflow_x": null,
            "overflow_y": null,
            "padding": null,
            "right": null,
            "top": null,
            "visibility": null,
            "width": null
          }
        },
        "9e332b82de0d4bfca4fd2fd4951eb1c4": {
          "model_module": "@jupyter-widgets/base",
          "model_name": "LayoutModel",
          "model_module_version": "1.2.0",
          "state": {
            "_model_module": "@jupyter-widgets/base",
            "_model_module_version": "1.2.0",
            "_model_name": "LayoutModel",
            "_view_count": null,
            "_view_module": "@jupyter-widgets/base",
            "_view_module_version": "1.2.0",
            "_view_name": "LayoutView",
            "align_content": null,
            "align_items": null,
            "align_self": null,
            "border": null,
            "bottom": null,
            "display": null,
            "flex": null,
            "flex_flow": null,
            "grid_area": null,
            "grid_auto_columns": null,
            "grid_auto_flow": null,
            "grid_auto_rows": null,
            "grid_column": null,
            "grid_gap": null,
            "grid_row": null,
            "grid_template_areas": null,
            "grid_template_columns": null,
            "grid_template_rows": null,
            "height": null,
            "justify_content": null,
            "justify_items": null,
            "left": null,
            "margin": null,
            "max_height": null,
            "max_width": null,
            "min_height": null,
            "min_width": null,
            "object_fit": null,
            "object_position": null,
            "order": null,
            "overflow": null,
            "overflow_x": null,
            "overflow_y": null,
            "padding": null,
            "right": null,
            "top": null,
            "visibility": null,
            "width": null
          }
        },
        "c836fc2187724fb79754eeaf4c0b2e4c": {
          "model_module": "@jupyter-widgets/controls",
          "model_name": "DescriptionStyleModel",
          "model_module_version": "1.5.0",
          "state": {
            "_model_module": "@jupyter-widgets/controls",
            "_model_module_version": "1.5.0",
            "_model_name": "DescriptionStyleModel",
            "_view_count": null,
            "_view_module": "@jupyter-widgets/base",
            "_view_module_version": "1.2.0",
            "_view_name": "StyleView",
            "description_width": ""
          }
        },
        "2a527f25cb664782ad4b5cdcf5912bea": {
          "model_module": "@jupyter-widgets/base",
          "model_name": "LayoutModel",
          "model_module_version": "1.2.0",
          "state": {
            "_model_module": "@jupyter-widgets/base",
            "_model_module_version": "1.2.0",
            "_model_name": "LayoutModel",
            "_view_count": null,
            "_view_module": "@jupyter-widgets/base",
            "_view_module_version": "1.2.0",
            "_view_name": "LayoutView",
            "align_content": null,
            "align_items": null,
            "align_self": null,
            "border": null,
            "bottom": null,
            "display": null,
            "flex": null,
            "flex_flow": null,
            "grid_area": null,
            "grid_auto_columns": null,
            "grid_auto_flow": null,
            "grid_auto_rows": null,
            "grid_column": null,
            "grid_gap": null,
            "grid_row": null,
            "grid_template_areas": null,
            "grid_template_columns": null,
            "grid_template_rows": null,
            "height": null,
            "justify_content": null,
            "justify_items": null,
            "left": null,
            "margin": null,
            "max_height": null,
            "max_width": null,
            "min_height": null,
            "min_width": null,
            "object_fit": null,
            "object_position": null,
            "order": null,
            "overflow": null,
            "overflow_x": null,
            "overflow_y": null,
            "padding": null,
            "right": null,
            "top": null,
            "visibility": null,
            "width": null
          }
        },
        "6b22c4f1040d4db2a38a03a2da5d53ff": {
          "model_module": "@jupyter-widgets/controls",
          "model_name": "ProgressStyleModel",
          "model_module_version": "1.5.0",
          "state": {
            "_model_module": "@jupyter-widgets/controls",
            "_model_module_version": "1.5.0",
            "_model_name": "ProgressStyleModel",
            "_view_count": null,
            "_view_module": "@jupyter-widgets/base",
            "_view_module_version": "1.2.0",
            "_view_name": "StyleView",
            "bar_color": null,
            "description_width": ""
          }
        },
        "da9d2ab9decd4d62aa85be603efdf27d": {
          "model_module": "@jupyter-widgets/base",
          "model_name": "LayoutModel",
          "model_module_version": "1.2.0",
          "state": {
            "_model_module": "@jupyter-widgets/base",
            "_model_module_version": "1.2.0",
            "_model_name": "LayoutModel",
            "_view_count": null,
            "_view_module": "@jupyter-widgets/base",
            "_view_module_version": "1.2.0",
            "_view_name": "LayoutView",
            "align_content": null,
            "align_items": null,
            "align_self": null,
            "border": null,
            "bottom": null,
            "display": null,
            "flex": null,
            "flex_flow": null,
            "grid_area": null,
            "grid_auto_columns": null,
            "grid_auto_flow": null,
            "grid_auto_rows": null,
            "grid_column": null,
            "grid_gap": null,
            "grid_row": null,
            "grid_template_areas": null,
            "grid_template_columns": null,
            "grid_template_rows": null,
            "height": null,
            "justify_content": null,
            "justify_items": null,
            "left": null,
            "margin": null,
            "max_height": null,
            "max_width": null,
            "min_height": null,
            "min_width": null,
            "object_fit": null,
            "object_position": null,
            "order": null,
            "overflow": null,
            "overflow_x": null,
            "overflow_y": null,
            "padding": null,
            "right": null,
            "top": null,
            "visibility": null,
            "width": null
          }
        },
        "3e48531504e2481d92de6c30b8ece7fb": {
          "model_module": "@jupyter-widgets/controls",
          "model_name": "DescriptionStyleModel",
          "model_module_version": "1.5.0",
          "state": {
            "_model_module": "@jupyter-widgets/controls",
            "_model_module_version": "1.5.0",
            "_model_name": "DescriptionStyleModel",
            "_view_count": null,
            "_view_module": "@jupyter-widgets/base",
            "_view_module_version": "1.2.0",
            "_view_name": "StyleView",
            "description_width": ""
          }
        },
        "6c30d5a5832f4c40834e1bc580158804": {
          "model_module": "@jupyter-widgets/controls",
          "model_name": "HBoxModel",
          "model_module_version": "1.5.0",
          "state": {
            "_dom_classes": [],
            "_model_module": "@jupyter-widgets/controls",
            "_model_module_version": "1.5.0",
            "_model_name": "HBoxModel",
            "_view_count": null,
            "_view_module": "@jupyter-widgets/controls",
            "_view_module_version": "1.5.0",
            "_view_name": "HBoxView",
            "box_style": "",
            "children": [
              "IPY_MODEL_b61823e0c31643749bd3213c791e6d66",
              "IPY_MODEL_8fd777b6da684a48b222c63d0108b9d1",
              "IPY_MODEL_7740673bba5848658d901632adce933a"
            ],
            "layout": "IPY_MODEL_12f1b4f12d0b4816a4308d69a34a85be"
          }
        },
        "b61823e0c31643749bd3213c791e6d66": {
          "model_module": "@jupyter-widgets/controls",
          "model_name": "HTMLModel",
          "model_module_version": "1.5.0",
          "state": {
            "_dom_classes": [],
            "_model_module": "@jupyter-widgets/controls",
            "_model_module_version": "1.5.0",
            "_model_name": "HTMLModel",
            "_view_count": null,
            "_view_module": "@jupyter-widgets/controls",
            "_view_module_version": "1.5.0",
            "_view_name": "HTMLView",
            "description": "",
            "description_tooltip": null,
            "layout": "IPY_MODEL_ae97b95bddc84e25bb758139421494ca",
            "placeholder": "​",
            "style": "IPY_MODEL_e2ca4d0488b546c5841fd5e40278e956",
            "value": "Downloading: 100%"
          }
        },
        "8fd777b6da684a48b222c63d0108b9d1": {
          "model_module": "@jupyter-widgets/controls",
          "model_name": "FloatProgressModel",
          "model_module_version": "1.5.0",
          "state": {
            "_dom_classes": [],
            "_model_module": "@jupyter-widgets/controls",
            "_model_module_version": "1.5.0",
            "_model_name": "FloatProgressModel",
            "_view_count": null,
            "_view_module": "@jupyter-widgets/controls",
            "_view_module_version": "1.5.0",
            "_view_name": "ProgressView",
            "bar_style": "success",
            "description": "",
            "description_tooltip": null,
            "layout": "IPY_MODEL_a913d2bde5be4617ac9b7253964eb745",
            "max": 456318,
            "min": 0,
            "orientation": "horizontal",
            "style": "IPY_MODEL_04c0c3acdabf456181c9be9fbdea8af0",
            "value": 456318
          }
        },
        "7740673bba5848658d901632adce933a": {
          "model_module": "@jupyter-widgets/controls",
          "model_name": "HTMLModel",
          "model_module_version": "1.5.0",
          "state": {
            "_dom_classes": [],
            "_model_module": "@jupyter-widgets/controls",
            "_model_module_version": "1.5.0",
            "_model_name": "HTMLModel",
            "_view_count": null,
            "_view_module": "@jupyter-widgets/controls",
            "_view_module_version": "1.5.0",
            "_view_name": "HTMLView",
            "description": "",
            "description_tooltip": null,
            "layout": "IPY_MODEL_56180a5b9cba42149bfff0b2963ed832",
            "placeholder": "​",
            "style": "IPY_MODEL_4889cbcee7b74766b48fea7bcd9230ec",
            "value": " 456k/456k [00:00&lt;00:00, 624kB/s]"
          }
        },
        "12f1b4f12d0b4816a4308d69a34a85be": {
          "model_module": "@jupyter-widgets/base",
          "model_name": "LayoutModel",
          "model_module_version": "1.2.0",
          "state": {
            "_model_module": "@jupyter-widgets/base",
            "_model_module_version": "1.2.0",
            "_model_name": "LayoutModel",
            "_view_count": null,
            "_view_module": "@jupyter-widgets/base",
            "_view_module_version": "1.2.0",
            "_view_name": "LayoutView",
            "align_content": null,
            "align_items": null,
            "align_self": null,
            "border": null,
            "bottom": null,
            "display": null,
            "flex": null,
            "flex_flow": null,
            "grid_area": null,
            "grid_auto_columns": null,
            "grid_auto_flow": null,
            "grid_auto_rows": null,
            "grid_column": null,
            "grid_gap": null,
            "grid_row": null,
            "grid_template_areas": null,
            "grid_template_columns": null,
            "grid_template_rows": null,
            "height": null,
            "justify_content": null,
            "justify_items": null,
            "left": null,
            "margin": null,
            "max_height": null,
            "max_width": null,
            "min_height": null,
            "min_width": null,
            "object_fit": null,
            "object_position": null,
            "order": null,
            "overflow": null,
            "overflow_x": null,
            "overflow_y": null,
            "padding": null,
            "right": null,
            "top": null,
            "visibility": null,
            "width": null
          }
        },
        "ae97b95bddc84e25bb758139421494ca": {
          "model_module": "@jupyter-widgets/base",
          "model_name": "LayoutModel",
          "model_module_version": "1.2.0",
          "state": {
            "_model_module": "@jupyter-widgets/base",
            "_model_module_version": "1.2.0",
            "_model_name": "LayoutModel",
            "_view_count": null,
            "_view_module": "@jupyter-widgets/base",
            "_view_module_version": "1.2.0",
            "_view_name": "LayoutView",
            "align_content": null,
            "align_items": null,
            "align_self": null,
            "border": null,
            "bottom": null,
            "display": null,
            "flex": null,
            "flex_flow": null,
            "grid_area": null,
            "grid_auto_columns": null,
            "grid_auto_flow": null,
            "grid_auto_rows": null,
            "grid_column": null,
            "grid_gap": null,
            "grid_row": null,
            "grid_template_areas": null,
            "grid_template_columns": null,
            "grid_template_rows": null,
            "height": null,
            "justify_content": null,
            "justify_items": null,
            "left": null,
            "margin": null,
            "max_height": null,
            "max_width": null,
            "min_height": null,
            "min_width": null,
            "object_fit": null,
            "object_position": null,
            "order": null,
            "overflow": null,
            "overflow_x": null,
            "overflow_y": null,
            "padding": null,
            "right": null,
            "top": null,
            "visibility": null,
            "width": null
          }
        },
        "e2ca4d0488b546c5841fd5e40278e956": {
          "model_module": "@jupyter-widgets/controls",
          "model_name": "DescriptionStyleModel",
          "model_module_version": "1.5.0",
          "state": {
            "_model_module": "@jupyter-widgets/controls",
            "_model_module_version": "1.5.0",
            "_model_name": "DescriptionStyleModel",
            "_view_count": null,
            "_view_module": "@jupyter-widgets/base",
            "_view_module_version": "1.2.0",
            "_view_name": "StyleView",
            "description_width": ""
          }
        },
        "a913d2bde5be4617ac9b7253964eb745": {
          "model_module": "@jupyter-widgets/base",
          "model_name": "LayoutModel",
          "model_module_version": "1.2.0",
          "state": {
            "_model_module": "@jupyter-widgets/base",
            "_model_module_version": "1.2.0",
            "_model_name": "LayoutModel",
            "_view_count": null,
            "_view_module": "@jupyter-widgets/base",
            "_view_module_version": "1.2.0",
            "_view_name": "LayoutView",
            "align_content": null,
            "align_items": null,
            "align_self": null,
            "border": null,
            "bottom": null,
            "display": null,
            "flex": null,
            "flex_flow": null,
            "grid_area": null,
            "grid_auto_columns": null,
            "grid_auto_flow": null,
            "grid_auto_rows": null,
            "grid_column": null,
            "grid_gap": null,
            "grid_row": null,
            "grid_template_areas": null,
            "grid_template_columns": null,
            "grid_template_rows": null,
            "height": null,
            "justify_content": null,
            "justify_items": null,
            "left": null,
            "margin": null,
            "max_height": null,
            "max_width": null,
            "min_height": null,
            "min_width": null,
            "object_fit": null,
            "object_position": null,
            "order": null,
            "overflow": null,
            "overflow_x": null,
            "overflow_y": null,
            "padding": null,
            "right": null,
            "top": null,
            "visibility": null,
            "width": null
          }
        },
        "04c0c3acdabf456181c9be9fbdea8af0": {
          "model_module": "@jupyter-widgets/controls",
          "model_name": "ProgressStyleModel",
          "model_module_version": "1.5.0",
          "state": {
            "_model_module": "@jupyter-widgets/controls",
            "_model_module_version": "1.5.0",
            "_model_name": "ProgressStyleModel",
            "_view_count": null,
            "_view_module": "@jupyter-widgets/base",
            "_view_module_version": "1.2.0",
            "_view_name": "StyleView",
            "bar_color": null,
            "description_width": ""
          }
        },
        "56180a5b9cba42149bfff0b2963ed832": {
          "model_module": "@jupyter-widgets/base",
          "model_name": "LayoutModel",
          "model_module_version": "1.2.0",
          "state": {
            "_model_module": "@jupyter-widgets/base",
            "_model_module_version": "1.2.0",
            "_model_name": "LayoutModel",
            "_view_count": null,
            "_view_module": "@jupyter-widgets/base",
            "_view_module_version": "1.2.0",
            "_view_name": "LayoutView",
            "align_content": null,
            "align_items": null,
            "align_self": null,
            "border": null,
            "bottom": null,
            "display": null,
            "flex": null,
            "flex_flow": null,
            "grid_area": null,
            "grid_auto_columns": null,
            "grid_auto_flow": null,
            "grid_auto_rows": null,
            "grid_column": null,
            "grid_gap": null,
            "grid_row": null,
            "grid_template_areas": null,
            "grid_template_columns": null,
            "grid_template_rows": null,
            "height": null,
            "justify_content": null,
            "justify_items": null,
            "left": null,
            "margin": null,
            "max_height": null,
            "max_width": null,
            "min_height": null,
            "min_width": null,
            "object_fit": null,
            "object_position": null,
            "order": null,
            "overflow": null,
            "overflow_x": null,
            "overflow_y": null,
            "padding": null,
            "right": null,
            "top": null,
            "visibility": null,
            "width": null
          }
        },
        "4889cbcee7b74766b48fea7bcd9230ec": {
          "model_module": "@jupyter-widgets/controls",
          "model_name": "DescriptionStyleModel",
          "model_module_version": "1.5.0",
          "state": {
            "_model_module": "@jupyter-widgets/controls",
            "_model_module_version": "1.5.0",
            "_model_name": "DescriptionStyleModel",
            "_view_count": null,
            "_view_module": "@jupyter-widgets/base",
            "_view_module_version": "1.2.0",
            "_view_name": "StyleView",
            "description_width": ""
          }
        },
        "c5d1732e7f5646c3aa76ef95c4dc7b87": {
          "model_module": "@jupyter-widgets/controls",
          "model_name": "HBoxModel",
          "model_module_version": "1.5.0",
          "state": {
            "_dom_classes": [],
            "_model_module": "@jupyter-widgets/controls",
            "_model_module_version": "1.5.0",
            "_model_name": "HBoxModel",
            "_view_count": null,
            "_view_module": "@jupyter-widgets/controls",
            "_view_module_version": "1.5.0",
            "_view_name": "HBoxView",
            "box_style": "",
            "children": [
              "IPY_MODEL_8b97ef58a1cb405581003fd55b529d3d",
              "IPY_MODEL_c8d56e214bb846178e186d0510f770d6",
              "IPY_MODEL_05047926f76042d9af43150f3b11aef6"
            ],
            "layout": "IPY_MODEL_66eea20e641c42a891e9f299217c2117"
          }
        },
        "8b97ef58a1cb405581003fd55b529d3d": {
          "model_module": "@jupyter-widgets/controls",
          "model_name": "HTMLModel",
          "model_module_version": "1.5.0",
          "state": {
            "_dom_classes": [],
            "_model_module": "@jupyter-widgets/controls",
            "_model_module_version": "1.5.0",
            "_model_name": "HTMLModel",
            "_view_count": null,
            "_view_module": "@jupyter-widgets/controls",
            "_view_module_version": "1.5.0",
            "_view_name": "HTMLView",
            "description": "",
            "description_tooltip": null,
            "layout": "IPY_MODEL_7007dce658b84113880c352a83b3c1a4",
            "placeholder": "​",
            "style": "IPY_MODEL_a90ca347a9c8476e94b0675ec64fbd6c",
            "value": "Downloading: 100%"
          }
        },
        "c8d56e214bb846178e186d0510f770d6": {
          "model_module": "@jupyter-widgets/controls",
          "model_name": "FloatProgressModel",
          "model_module_version": "1.5.0",
          "state": {
            "_dom_classes": [],
            "_model_module": "@jupyter-widgets/controls",
            "_model_module_version": "1.5.0",
            "_model_name": "FloatProgressModel",
            "_view_count": null,
            "_view_module": "@jupyter-widgets/controls",
            "_view_module_version": "1.5.0",
            "_view_name": "ProgressView",
            "bar_style": "success",
            "description": "",
            "description_tooltip": null,
            "layout": "IPY_MODEL_da68695b74d14a9c846faa4c23c0a328",
            "max": 1355863,
            "min": 0,
            "orientation": "horizontal",
            "style": "IPY_MODEL_40511653312544c6a36c9b25135749b1",
            "value": 1355863
          }
        },
        "05047926f76042d9af43150f3b11aef6": {
          "model_module": "@jupyter-widgets/controls",
          "model_name": "HTMLModel",
          "model_module_version": "1.5.0",
          "state": {
            "_dom_classes": [],
            "_model_module": "@jupyter-widgets/controls",
            "_model_module_version": "1.5.0",
            "_model_name": "HTMLModel",
            "_view_count": null,
            "_view_module": "@jupyter-widgets/controls",
            "_view_module_version": "1.5.0",
            "_view_name": "HTMLView",
            "description": "",
            "description_tooltip": null,
            "layout": "IPY_MODEL_6770f994c3d54fe5a3dea1857bb2c610",
            "placeholder": "​",
            "style": "IPY_MODEL_da6621b201d7434e9021565f097d070b",
            "value": " 1.36M/1.36M [00:01&lt;00:00, 1.14MB/s]"
          }
        },
        "66eea20e641c42a891e9f299217c2117": {
          "model_module": "@jupyter-widgets/base",
          "model_name": "LayoutModel",
          "model_module_version": "1.2.0",
          "state": {
            "_model_module": "@jupyter-widgets/base",
            "_model_module_version": "1.2.0",
            "_model_name": "LayoutModel",
            "_view_count": null,
            "_view_module": "@jupyter-widgets/base",
            "_view_module_version": "1.2.0",
            "_view_name": "LayoutView",
            "align_content": null,
            "align_items": null,
            "align_self": null,
            "border": null,
            "bottom": null,
            "display": null,
            "flex": null,
            "flex_flow": null,
            "grid_area": null,
            "grid_auto_columns": null,
            "grid_auto_flow": null,
            "grid_auto_rows": null,
            "grid_column": null,
            "grid_gap": null,
            "grid_row": null,
            "grid_template_areas": null,
            "grid_template_columns": null,
            "grid_template_rows": null,
            "height": null,
            "justify_content": null,
            "justify_items": null,
            "left": null,
            "margin": null,
            "max_height": null,
            "max_width": null,
            "min_height": null,
            "min_width": null,
            "object_fit": null,
            "object_position": null,
            "order": null,
            "overflow": null,
            "overflow_x": null,
            "overflow_y": null,
            "padding": null,
            "right": null,
            "top": null,
            "visibility": null,
            "width": null
          }
        },
        "7007dce658b84113880c352a83b3c1a4": {
          "model_module": "@jupyter-widgets/base",
          "model_name": "LayoutModel",
          "model_module_version": "1.2.0",
          "state": {
            "_model_module": "@jupyter-widgets/base",
            "_model_module_version": "1.2.0",
            "_model_name": "LayoutModel",
            "_view_count": null,
            "_view_module": "@jupyter-widgets/base",
            "_view_module_version": "1.2.0",
            "_view_name": "LayoutView",
            "align_content": null,
            "align_items": null,
            "align_self": null,
            "border": null,
            "bottom": null,
            "display": null,
            "flex": null,
            "flex_flow": null,
            "grid_area": null,
            "grid_auto_columns": null,
            "grid_auto_flow": null,
            "grid_auto_rows": null,
            "grid_column": null,
            "grid_gap": null,
            "grid_row": null,
            "grid_template_areas": null,
            "grid_template_columns": null,
            "grid_template_rows": null,
            "height": null,
            "justify_content": null,
            "justify_items": null,
            "left": null,
            "margin": null,
            "max_height": null,
            "max_width": null,
            "min_height": null,
            "min_width": null,
            "object_fit": null,
            "object_position": null,
            "order": null,
            "overflow": null,
            "overflow_x": null,
            "overflow_y": null,
            "padding": null,
            "right": null,
            "top": null,
            "visibility": null,
            "width": null
          }
        },
        "a90ca347a9c8476e94b0675ec64fbd6c": {
          "model_module": "@jupyter-widgets/controls",
          "model_name": "DescriptionStyleModel",
          "model_module_version": "1.5.0",
          "state": {
            "_model_module": "@jupyter-widgets/controls",
            "_model_module_version": "1.5.0",
            "_model_name": "DescriptionStyleModel",
            "_view_count": null,
            "_view_module": "@jupyter-widgets/base",
            "_view_module_version": "1.2.0",
            "_view_name": "StyleView",
            "description_width": ""
          }
        },
        "da68695b74d14a9c846faa4c23c0a328": {
          "model_module": "@jupyter-widgets/base",
          "model_name": "LayoutModel",
          "model_module_version": "1.2.0",
          "state": {
            "_model_module": "@jupyter-widgets/base",
            "_model_module_version": "1.2.0",
            "_model_name": "LayoutModel",
            "_view_count": null,
            "_view_module": "@jupyter-widgets/base",
            "_view_module_version": "1.2.0",
            "_view_name": "LayoutView",
            "align_content": null,
            "align_items": null,
            "align_self": null,
            "border": null,
            "bottom": null,
            "display": null,
            "flex": null,
            "flex_flow": null,
            "grid_area": null,
            "grid_auto_columns": null,
            "grid_auto_flow": null,
            "grid_auto_rows": null,
            "grid_column": null,
            "grid_gap": null,
            "grid_row": null,
            "grid_template_areas": null,
            "grid_template_columns": null,
            "grid_template_rows": null,
            "height": null,
            "justify_content": null,
            "justify_items": null,
            "left": null,
            "margin": null,
            "max_height": null,
            "max_width": null,
            "min_height": null,
            "min_width": null,
            "object_fit": null,
            "object_position": null,
            "order": null,
            "overflow": null,
            "overflow_x": null,
            "overflow_y": null,
            "padding": null,
            "right": null,
            "top": null,
            "visibility": null,
            "width": null
          }
        },
        "40511653312544c6a36c9b25135749b1": {
          "model_module": "@jupyter-widgets/controls",
          "model_name": "ProgressStyleModel",
          "model_module_version": "1.5.0",
          "state": {
            "_model_module": "@jupyter-widgets/controls",
            "_model_module_version": "1.5.0",
            "_model_name": "ProgressStyleModel",
            "_view_count": null,
            "_view_module": "@jupyter-widgets/base",
            "_view_module_version": "1.2.0",
            "_view_name": "StyleView",
            "bar_color": null,
            "description_width": ""
          }
        },
        "6770f994c3d54fe5a3dea1857bb2c610": {
          "model_module": "@jupyter-widgets/base",
          "model_name": "LayoutModel",
          "model_module_version": "1.2.0",
          "state": {
            "_model_module": "@jupyter-widgets/base",
            "_model_module_version": "1.2.0",
            "_model_name": "LayoutModel",
            "_view_count": null,
            "_view_module": "@jupyter-widgets/base",
            "_view_module_version": "1.2.0",
            "_view_name": "LayoutView",
            "align_content": null,
            "align_items": null,
            "align_self": null,
            "border": null,
            "bottom": null,
            "display": null,
            "flex": null,
            "flex_flow": null,
            "grid_area": null,
            "grid_auto_columns": null,
            "grid_auto_flow": null,
            "grid_auto_rows": null,
            "grid_column": null,
            "grid_gap": null,
            "grid_row": null,
            "grid_template_areas": null,
            "grid_template_columns": null,
            "grid_template_rows": null,
            "height": null,
            "justify_content": null,
            "justify_items": null,
            "left": null,
            "margin": null,
            "max_height": null,
            "max_width": null,
            "min_height": null,
            "min_width": null,
            "object_fit": null,
            "object_position": null,
            "order": null,
            "overflow": null,
            "overflow_x": null,
            "overflow_y": null,
            "padding": null,
            "right": null,
            "top": null,
            "visibility": null,
            "width": null
          }
        },
        "da6621b201d7434e9021565f097d070b": {
          "model_module": "@jupyter-widgets/controls",
          "model_name": "DescriptionStyleModel",
          "model_module_version": "1.5.0",
          "state": {
            "_model_module": "@jupyter-widgets/controls",
            "_model_module_version": "1.5.0",
            "_model_name": "DescriptionStyleModel",
            "_view_count": null,
            "_view_module": "@jupyter-widgets/base",
            "_view_module_version": "1.2.0",
            "_view_name": "StyleView",
            "description_width": ""
          }
        },
        "b5df11378b554d749f2d7e204279175a": {
          "model_module": "@jupyter-widgets/controls",
          "model_name": "HBoxModel",
          "model_module_version": "1.5.0",
          "state": {
            "_dom_classes": [],
            "_model_module": "@jupyter-widgets/controls",
            "_model_module_version": "1.5.0",
            "_model_name": "HBoxModel",
            "_view_count": null,
            "_view_module": "@jupyter-widgets/controls",
            "_view_module_version": "1.5.0",
            "_view_name": "HBoxView",
            "box_style": "",
            "children": [
              "IPY_MODEL_457dc7ed852040bb9283ffadff324845",
              "IPY_MODEL_81e70629230549ebaff0de7d4e7c5bcf",
              "IPY_MODEL_f34e1f6e1e644f1d88ac2577ffa2c98f"
            ],
            "layout": "IPY_MODEL_6675c6c7354747dc94bdf69cb4abed88"
          }
        },
        "457dc7ed852040bb9283ffadff324845": {
          "model_module": "@jupyter-widgets/controls",
          "model_name": "HTMLModel",
          "model_module_version": "1.5.0",
          "state": {
            "_dom_classes": [],
            "_model_module": "@jupyter-widgets/controls",
            "_model_module_version": "1.5.0",
            "_model_name": "HTMLModel",
            "_view_count": null,
            "_view_module": "@jupyter-widgets/controls",
            "_view_module_version": "1.5.0",
            "_view_name": "HTMLView",
            "description": "",
            "description_tooltip": null,
            "layout": "IPY_MODEL_7dba79722f70474c970038ef2f7fafe4",
            "placeholder": "​",
            "style": "IPY_MODEL_4afc0ab54e10455b81b3312d53f74cd4",
            "value": "Downloading: 100%"
          }
        },
        "81e70629230549ebaff0de7d4e7c5bcf": {
          "model_module": "@jupyter-widgets/controls",
          "model_name": "FloatProgressModel",
          "model_module_version": "1.5.0",
          "state": {
            "_dom_classes": [],
            "_model_module": "@jupyter-widgets/controls",
            "_model_module_version": "1.5.0",
            "_model_name": "FloatProgressModel",
            "_view_count": null,
            "_view_module": "@jupyter-widgets/controls",
            "_view_module_version": "1.5.0",
            "_view_name": "ProgressView",
            "bar_style": "success",
            "description": "",
            "description_tooltip": null,
            "layout": "IPY_MODEL_b9da7caa2792458198bb08ac1e1bd419",
            "max": 1625270765,
            "min": 0,
            "orientation": "horizontal",
            "style": "IPY_MODEL_722a6dd578b54ba59fd594b1701b8cb7",
            "value": 1625270765
          }
        },
        "f34e1f6e1e644f1d88ac2577ffa2c98f": {
          "model_module": "@jupyter-widgets/controls",
          "model_name": "HTMLModel",
          "model_module_version": "1.5.0",
          "state": {
            "_dom_classes": [],
            "_model_module": "@jupyter-widgets/controls",
            "_model_module_version": "1.5.0",
            "_model_name": "HTMLModel",
            "_view_count": null,
            "_view_module": "@jupyter-widgets/controls",
            "_view_module_version": "1.5.0",
            "_view_name": "HTMLView",
            "description": "",
            "description_tooltip": null,
            "layout": "IPY_MODEL_818b99214c8c4b33ad2a6129352fb662",
            "placeholder": "​",
            "style": "IPY_MODEL_b9f34f29273f438d8f17cc0202bab5bf",
            "value": " 1.63G/1.63G [01:32&lt;00:00, 8.42MB/s]"
          }
        },
        "6675c6c7354747dc94bdf69cb4abed88": {
          "model_module": "@jupyter-widgets/base",
          "model_name": "LayoutModel",
          "model_module_version": "1.2.0",
          "state": {
            "_model_module": "@jupyter-widgets/base",
            "_model_module_version": "1.2.0",
            "_model_name": "LayoutModel",
            "_view_count": null,
            "_view_module": "@jupyter-widgets/base",
            "_view_module_version": "1.2.0",
            "_view_name": "LayoutView",
            "align_content": null,
            "align_items": null,
            "align_self": null,
            "border": null,
            "bottom": null,
            "display": null,
            "flex": null,
            "flex_flow": null,
            "grid_area": null,
            "grid_auto_columns": null,
            "grid_auto_flow": null,
            "grid_auto_rows": null,
            "grid_column": null,
            "grid_gap": null,
            "grid_row": null,
            "grid_template_areas": null,
            "grid_template_columns": null,
            "grid_template_rows": null,
            "height": null,
            "justify_content": null,
            "justify_items": null,
            "left": null,
            "margin": null,
            "max_height": null,
            "max_width": null,
            "min_height": null,
            "min_width": null,
            "object_fit": null,
            "object_position": null,
            "order": null,
            "overflow": null,
            "overflow_x": null,
            "overflow_y": null,
            "padding": null,
            "right": null,
            "top": null,
            "visibility": null,
            "width": null
          }
        },
        "7dba79722f70474c970038ef2f7fafe4": {
          "model_module": "@jupyter-widgets/base",
          "model_name": "LayoutModel",
          "model_module_version": "1.2.0",
          "state": {
            "_model_module": "@jupyter-widgets/base",
            "_model_module_version": "1.2.0",
            "_model_name": "LayoutModel",
            "_view_count": null,
            "_view_module": "@jupyter-widgets/base",
            "_view_module_version": "1.2.0",
            "_view_name": "LayoutView",
            "align_content": null,
            "align_items": null,
            "align_self": null,
            "border": null,
            "bottom": null,
            "display": null,
            "flex": null,
            "flex_flow": null,
            "grid_area": null,
            "grid_auto_columns": null,
            "grid_auto_flow": null,
            "grid_auto_rows": null,
            "grid_column": null,
            "grid_gap": null,
            "grid_row": null,
            "grid_template_areas": null,
            "grid_template_columns": null,
            "grid_template_rows": null,
            "height": null,
            "justify_content": null,
            "justify_items": null,
            "left": null,
            "margin": null,
            "max_height": null,
            "max_width": null,
            "min_height": null,
            "min_width": null,
            "object_fit": null,
            "object_position": null,
            "order": null,
            "overflow": null,
            "overflow_x": null,
            "overflow_y": null,
            "padding": null,
            "right": null,
            "top": null,
            "visibility": null,
            "width": null
          }
        },
        "4afc0ab54e10455b81b3312d53f74cd4": {
          "model_module": "@jupyter-widgets/controls",
          "model_name": "DescriptionStyleModel",
          "model_module_version": "1.5.0",
          "state": {
            "_model_module": "@jupyter-widgets/controls",
            "_model_module_version": "1.5.0",
            "_model_name": "DescriptionStyleModel",
            "_view_count": null,
            "_view_module": "@jupyter-widgets/base",
            "_view_module_version": "1.2.0",
            "_view_name": "StyleView",
            "description_width": ""
          }
        },
        "b9da7caa2792458198bb08ac1e1bd419": {
          "model_module": "@jupyter-widgets/base",
          "model_name": "LayoutModel",
          "model_module_version": "1.2.0",
          "state": {
            "_model_module": "@jupyter-widgets/base",
            "_model_module_version": "1.2.0",
            "_model_name": "LayoutModel",
            "_view_count": null,
            "_view_module": "@jupyter-widgets/base",
            "_view_module_version": "1.2.0",
            "_view_name": "LayoutView",
            "align_content": null,
            "align_items": null,
            "align_self": null,
            "border": null,
            "bottom": null,
            "display": null,
            "flex": null,
            "flex_flow": null,
            "grid_area": null,
            "grid_auto_columns": null,
            "grid_auto_flow": null,
            "grid_auto_rows": null,
            "grid_column": null,
            "grid_gap": null,
            "grid_row": null,
            "grid_template_areas": null,
            "grid_template_columns": null,
            "grid_template_rows": null,
            "height": null,
            "justify_content": null,
            "justify_items": null,
            "left": null,
            "margin": null,
            "max_height": null,
            "max_width": null,
            "min_height": null,
            "min_width": null,
            "object_fit": null,
            "object_position": null,
            "order": null,
            "overflow": null,
            "overflow_x": null,
            "overflow_y": null,
            "padding": null,
            "right": null,
            "top": null,
            "visibility": null,
            "width": null
          }
        },
        "722a6dd578b54ba59fd594b1701b8cb7": {
          "model_module": "@jupyter-widgets/controls",
          "model_name": "ProgressStyleModel",
          "model_module_version": "1.5.0",
          "state": {
            "_model_module": "@jupyter-widgets/controls",
            "_model_module_version": "1.5.0",
            "_model_name": "ProgressStyleModel",
            "_view_count": null,
            "_view_module": "@jupyter-widgets/base",
            "_view_module_version": "1.2.0",
            "_view_name": "StyleView",
            "bar_color": null,
            "description_width": ""
          }
        },
        "818b99214c8c4b33ad2a6129352fb662": {
          "model_module": "@jupyter-widgets/base",
          "model_name": "LayoutModel",
          "model_module_version": "1.2.0",
          "state": {
            "_model_module": "@jupyter-widgets/base",
            "_model_module_version": "1.2.0",
            "_model_name": "LayoutModel",
            "_view_count": null,
            "_view_module": "@jupyter-widgets/base",
            "_view_module_version": "1.2.0",
            "_view_name": "LayoutView",
            "align_content": null,
            "align_items": null,
            "align_self": null,
            "border": null,
            "bottom": null,
            "display": null,
            "flex": null,
            "flex_flow": null,
            "grid_area": null,
            "grid_auto_columns": null,
            "grid_auto_flow": null,
            "grid_auto_rows": null,
            "grid_column": null,
            "grid_gap": null,
            "grid_row": null,
            "grid_template_areas": null,
            "grid_template_columns": null,
            "grid_template_rows": null,
            "height": null,
            "justify_content": null,
            "justify_items": null,
            "left": null,
            "margin": null,
            "max_height": null,
            "max_width": null,
            "min_height": null,
            "min_width": null,
            "object_fit": null,
            "object_position": null,
            "order": null,
            "overflow": null,
            "overflow_x": null,
            "overflow_y": null,
            "padding": null,
            "right": null,
            "top": null,
            "visibility": null,
            "width": null
          }
        },
        "b9f34f29273f438d8f17cc0202bab5bf": {
          "model_module": "@jupyter-widgets/controls",
          "model_name": "DescriptionStyleModel",
          "model_module_version": "1.5.0",
          "state": {
            "_model_module": "@jupyter-widgets/controls",
            "_model_module_version": "1.5.0",
            "_model_name": "DescriptionStyleModel",
            "_view_count": null,
            "_view_module": "@jupyter-widgets/base",
            "_view_module_version": "1.2.0",
            "_view_name": "StyleView",
            "description_width": ""
          }
        }
      }
    }
  },
  "nbformat": 4,
  "nbformat_minor": 0
}